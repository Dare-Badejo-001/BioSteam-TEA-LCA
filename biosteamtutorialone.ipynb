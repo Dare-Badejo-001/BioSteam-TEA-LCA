{
  "nbformat": 4,
  "nbformat_minor": 0,
  "metadata": {
    "colab": {
      "provenance": [],
      "toc_visible": true,
      "authorship_tag": "ABX9TyMiG0d5X081gFLdWIRLDFFA",
      "include_colab_link": true
    },
    "kernelspec": {
      "name": "python3",
      "display_name": "Python 3"
    },
    "language_info": {
      "name": "python"
    }
  },
  "cells": [
    {
      "cell_type": "markdown",
      "metadata": {
        "id": "view-in-github",
        "colab_type": "text"
      },
      "source": [
        "<a href=\"https://colab.research.google.com/github/Dare-Badejo-001/BioSteam-TEA-LCA/blob/main/biosteamtutorialone.ipynb\" target=\"_parent\"><img src=\"https://colab.research.google.com/assets/colab-badge.svg\" alt=\"Open In Colab\"/></a>"
      ]
    },
    {
      "cell_type": "code",
      "execution_count": null,
      "metadata": {
        "colab": {
          "base_uri": "https://localhost:8080/"
        },
        "id": "2gyndXjIJsIE",
        "outputId": "0593cc61-e5e2-4dcf-d90b-c57531ebdb35"
      },
      "outputs": [
        {
          "output_type": "stream",
          "name": "stdout",
          "text": [
            "Collecting biosteam\n",
            "  Downloading biosteam-2.44.3.tar.gz (429 kB)\n",
            "\u001b[2K     \u001b[90m━━━━━━━━━━━━━━━━━━━━━━━━━━━━━━━━━━━━━━━━\u001b[0m \u001b[32m429.5/429.5 kB\u001b[0m \u001b[31m4.7 MB/s\u001b[0m eta \u001b[36m0:00:00\u001b[0m\n",
            "\u001b[?25h  Preparing metadata (setup.py) ... \u001b[?25l\u001b[?25hdone\n",
            "Requirement already satisfied: IPython>=7.9.0 in /usr/local/lib/python3.10/dist-packages (from biosteam) (7.34.0)\n",
            "Collecting thermosteam<0.43.0,>=0.42.0 (from biosteam)\n",
            "  Downloading thermosteam-0.42.2.tar.gz (1.9 MB)\n",
            "\u001b[2K     \u001b[90m━━━━━━━━━━━━━━━━━━━━━━━━━━━━━━━━━━━━━━━━\u001b[0m \u001b[32m1.9/1.9 MB\u001b[0m \u001b[31m27.2 MB/s\u001b[0m eta \u001b[36m0:00:00\u001b[0m\n",
            "\u001b[?25h  Preparing metadata (setup.py) ... \u001b[?25l\u001b[?25hdone\n",
            "Requirement already satisfied: graphviz>=0.17 in /usr/local/lib/python3.10/dist-packages (from biosteam) (0.20.3)\n",
            "Collecting chaospy>=3.3.9 (from biosteam)\n",
            "  Downloading chaospy-4.3.16-py3-none-any.whl.metadata (5.4 kB)\n",
            "Requirement already satisfied: pyyaml in /usr/local/lib/python3.10/dist-packages (from biosteam) (6.0.1)\n",
            "Requirement already satisfied: numpy>=1.20 in /usr/local/lib/python3.10/dist-packages (from chaospy>=3.3.9->biosteam) (1.26.4)\n",
            "Collecting numpoly>=1.2.12 (from chaospy>=3.3.9->biosteam)\n",
            "  Downloading numpoly-1.2.13-py3-none-any.whl.metadata (6.0 kB)\n",
            "Requirement already satisfied: scipy in /usr/local/lib/python3.10/dist-packages (from chaospy>=3.3.9->biosteam) (1.13.1)\n",
            "Requirement already satisfied: setuptools>=40.9.0 in /usr/local/lib/python3.10/dist-packages (from chaospy>=3.3.9->biosteam) (71.0.4)\n",
            "Requirement already satisfied: importlib-metadata in /usr/local/lib/python3.10/dist-packages (from chaospy>=3.3.9->biosteam) (8.2.0)\n",
            "Collecting jedi>=0.16 (from IPython>=7.9.0->biosteam)\n",
            "  Using cached jedi-0.19.1-py2.py3-none-any.whl.metadata (22 kB)\n",
            "Requirement already satisfied: decorator in /usr/local/lib/python3.10/dist-packages (from IPython>=7.9.0->biosteam) (4.4.2)\n",
            "Requirement already satisfied: pickleshare in /usr/local/lib/python3.10/dist-packages (from IPython>=7.9.0->biosteam) (0.7.5)\n",
            "Requirement already satisfied: traitlets>=4.2 in /usr/local/lib/python3.10/dist-packages (from IPython>=7.9.0->biosteam) (5.7.1)\n",
            "Requirement already satisfied: prompt-toolkit!=3.0.0,!=3.0.1,<3.1.0,>=2.0.0 in /usr/local/lib/python3.10/dist-packages (from IPython>=7.9.0->biosteam) (3.0.47)\n",
            "Requirement already satisfied: pygments in /usr/local/lib/python3.10/dist-packages (from IPython>=7.9.0->biosteam) (2.16.1)\n",
            "Requirement already satisfied: backcall in /usr/local/lib/python3.10/dist-packages (from IPython>=7.9.0->biosteam) (0.2.0)\n",
            "Requirement already satisfied: matplotlib-inline in /usr/local/lib/python3.10/dist-packages (from IPython>=7.9.0->biosteam) (0.1.7)\n",
            "Requirement already satisfied: pexpect>4.3 in /usr/local/lib/python3.10/dist-packages (from IPython>=7.9.0->biosteam) (4.9.0)\n",
            "Collecting pint>=0.22 (from thermosteam<0.43.0,>=0.42.0->biosteam)\n",
            "  Downloading Pint-0.24.3-py3-none-any.whl.metadata (8.5 kB)\n",
            "Collecting thermo>=0.2.25 (from thermosteam<0.43.0,>=0.42.0->biosteam)\n",
            "  Downloading thermo-0.3.0-py3-none-any.whl.metadata (13 kB)\n",
            "Collecting colorpalette>=0.3.3 (from thermosteam<0.43.0,>=0.42.0->biosteam)\n",
            "  Downloading colorpalette-0.3.3.tar.gz (6.5 kB)\n",
            "  Preparing metadata (setup.py) ... \u001b[?25l\u001b[?25hdone\n",
            "Requirement already satisfied: pandas>=0.25.2 in /usr/local/lib/python3.10/dist-packages (from thermosteam<0.43.0,>=0.42.0->biosteam) (2.1.4)\n",
            "Requirement already satisfied: matplotlib>=3.1.1 in /usr/local/lib/python3.10/dist-packages (from thermosteam<0.43.0,>=0.42.0->biosteam) (3.7.1)\n",
            "Requirement already satisfied: xlrd>=1.2.0 in /usr/local/lib/python3.10/dist-packages (from thermosteam<0.43.0,>=0.42.0->biosteam) (2.0.1)\n",
            "Requirement already satisfied: openpyxl>=3.0.0 in /usr/local/lib/python3.10/dist-packages (from thermosteam<0.43.0,>=0.42.0->biosteam) (3.1.5)\n",
            "Collecting free_properties>=0.3.6 (from thermosteam<0.43.0,>=0.42.0->biosteam)\n",
            "  Downloading free_properties-0.3.6-py3-none-any.whl.metadata (6.1 kB)\n",
            "Collecting flexsolve>=0.5.4 (from thermosteam<0.43.0,>=0.42.0->biosteam)\n",
            "  Downloading flexsolve-0.5.7.tar.gz (154 kB)\n",
            "\u001b[2K     \u001b[90m━━━━━━━━━━━━━━━━━━━━━━━━━━━━━━━━━━━━━━━━\u001b[0m \u001b[32m154.8/154.8 kB\u001b[0m \u001b[31m9.6 MB/s\u001b[0m eta \u001b[36m0:00:00\u001b[0m\n",
            "\u001b[?25h  Preparing metadata (setup.py) ... \u001b[?25l\u001b[?25hdone\n",
            "Requirement already satisfied: numba>=0.57.0 in /usr/local/lib/python3.10/dist-packages (from thermosteam<0.43.0,>=0.42.0->biosteam) (0.60.0)\n",
            "Collecting pyglet (from thermosteam<0.43.0,>=0.42.0->biosteam)\n",
            "  Downloading pyglet-2.0.17-py3-none-any.whl.metadata (7.9 kB)\n",
            "Collecting ansicolors (from colorpalette>=0.3.3->thermosteam<0.43.0,>=0.42.0->biosteam)\n",
            "  Downloading ansicolors-1.1.8-py2.py3-none-any.whl.metadata (9.0 kB)\n",
            "Collecting colorama (from colorpalette>=0.3.3->thermosteam<0.43.0,>=0.42.0->biosteam)\n",
            "  Downloading colorama-0.4.6-py2.py3-none-any.whl.metadata (17 kB)\n",
            "Requirement already satisfied: llvmlite>=0.31 in /usr/local/lib/python3.10/dist-packages (from flexsolve>=0.5.4->thermosteam<0.43.0,>=0.42.0->biosteam) (0.43.0)\n",
            "Requirement already satisfied: parso<0.9.0,>=0.8.3 in /usr/local/lib/python3.10/dist-packages (from jedi>=0.16->IPython>=7.9.0->biosteam) (0.8.4)\n",
            "Requirement already satisfied: contourpy>=1.0.1 in /usr/local/lib/python3.10/dist-packages (from matplotlib>=3.1.1->thermosteam<0.43.0,>=0.42.0->biosteam) (1.2.1)\n",
            "Requirement already satisfied: cycler>=0.10 in /usr/local/lib/python3.10/dist-packages (from matplotlib>=3.1.1->thermosteam<0.43.0,>=0.42.0->biosteam) (0.12.1)\n",
            "Requirement already satisfied: fonttools>=4.22.0 in /usr/local/lib/python3.10/dist-packages (from matplotlib>=3.1.1->thermosteam<0.43.0,>=0.42.0->biosteam) (4.53.1)\n",
            "Requirement already satisfied: kiwisolver>=1.0.1 in /usr/local/lib/python3.10/dist-packages (from matplotlib>=3.1.1->thermosteam<0.43.0,>=0.42.0->biosteam) (1.4.5)\n",
            "Requirement already satisfied: packaging>=20.0 in /usr/local/lib/python3.10/dist-packages (from matplotlib>=3.1.1->thermosteam<0.43.0,>=0.42.0->biosteam) (24.1)\n",
            "Requirement already satisfied: pillow>=6.2.0 in /usr/local/lib/python3.10/dist-packages (from matplotlib>=3.1.1->thermosteam<0.43.0,>=0.42.0->biosteam) (9.4.0)\n",
            "Requirement already satisfied: pyparsing>=2.3.1 in /usr/local/lib/python3.10/dist-packages (from matplotlib>=3.1.1->thermosteam<0.43.0,>=0.42.0->biosteam) (3.1.2)\n",
            "Requirement already satisfied: python-dateutil>=2.7 in /usr/local/lib/python3.10/dist-packages (from matplotlib>=3.1.1->thermosteam<0.43.0,>=0.42.0->biosteam) (2.8.2)\n",
            "Requirement already satisfied: et-xmlfile in /usr/local/lib/python3.10/dist-packages (from openpyxl>=3.0.0->thermosteam<0.43.0,>=0.42.0->biosteam) (1.1.0)\n",
            "Requirement already satisfied: pytz>=2020.1 in /usr/local/lib/python3.10/dist-packages (from pandas>=0.25.2->thermosteam<0.43.0,>=0.42.0->biosteam) (2024.1)\n",
            "Requirement already satisfied: tzdata>=2022.1 in /usr/local/lib/python3.10/dist-packages (from pandas>=0.25.2->thermosteam<0.43.0,>=0.42.0->biosteam) (2024.1)\n",
            "Requirement already satisfied: ptyprocess>=0.5 in /usr/local/lib/python3.10/dist-packages (from pexpect>4.3->IPython>=7.9.0->biosteam) (0.7.0)\n",
            "Collecting appdirs>=1.4.4 (from pint>=0.22->thermosteam<0.43.0,>=0.42.0->biosteam)\n",
            "  Downloading appdirs-1.4.4-py2.py3-none-any.whl.metadata (9.0 kB)\n",
            "Requirement already satisfied: typing-extensions in /usr/local/lib/python3.10/dist-packages (from pint>=0.22->thermosteam<0.43.0,>=0.42.0->biosteam) (4.12.2)\n",
            "Collecting flexcache>=0.3 (from pint>=0.22->thermosteam<0.43.0,>=0.42.0->biosteam)\n",
            "  Downloading flexcache-0.3-py3-none-any.whl.metadata (7.0 kB)\n",
            "Collecting flexparser>=0.3 (from pint>=0.22->thermosteam<0.43.0,>=0.42.0->biosteam)\n",
            "  Downloading flexparser-0.3.1-py3-none-any.whl.metadata (18 kB)\n",
            "Requirement already satisfied: wcwidth in /usr/local/lib/python3.10/dist-packages (from prompt-toolkit!=3.0.0,!=3.0.1,<3.1.0,>=2.0.0->IPython>=7.9.0->biosteam) (0.2.13)\n",
            "Collecting fluids>=1.0.26 (from thermo>=0.2.25->thermosteam<0.43.0,>=0.42.0->biosteam)\n",
            "  Downloading fluids-1.0.26-py3-none-any.whl.metadata (7.2 kB)\n",
            "Collecting chemicals>=1.2.0 (from thermo>=0.2.25->thermosteam<0.43.0,>=0.42.0->biosteam)\n",
            "  Downloading chemicals-1.2.0-py3-none-any.whl.metadata (12 kB)\n",
            "Requirement already satisfied: zipp>=0.5 in /usr/local/lib/python3.10/dist-packages (from importlib-metadata->chaospy>=3.3.9->biosteam) (3.19.2)\n",
            "Requirement already satisfied: six>=1.5 in /usr/local/lib/python3.10/dist-packages (from python-dateutil>=2.7->matplotlib>=3.1.1->thermosteam<0.43.0,>=0.42.0->biosteam) (1.16.0)\n",
            "Downloading chaospy-4.3.16-py3-none-any.whl (254 kB)\n",
            "\u001b[2K   \u001b[90m━━━━━━━━━━━━━━━━━━━━━━━━━━━━━━━━━━━━━━━━\u001b[0m \u001b[32m254.1/254.1 kB\u001b[0m \u001b[31m14.5 MB/s\u001b[0m eta \u001b[36m0:00:00\u001b[0m\n",
            "\u001b[?25hDownloading free_properties-0.3.6-py3-none-any.whl (9.6 kB)\n",
            "Using cached jedi-0.19.1-py2.py3-none-any.whl (1.6 MB)\n",
            "Downloading numpoly-1.2.13-py3-none-any.whl (148 kB)\n",
            "\u001b[2K   \u001b[90m━━━━━━━━━━━━━━━━━━━━━━━━━━━━━━━━━━━━━━━━\u001b[0m \u001b[32m148.1/148.1 kB\u001b[0m \u001b[31m10.4 MB/s\u001b[0m eta \u001b[36m0:00:00\u001b[0m\n",
            "\u001b[?25hDownloading Pint-0.24.3-py3-none-any.whl (301 kB)\n",
            "\u001b[2K   \u001b[90m━━━━━━━━━━━━━━━━━━━━━━━━━━━━━━━━━━━━━━━━\u001b[0m \u001b[32m301.8/301.8 kB\u001b[0m \u001b[31m19.8 MB/s\u001b[0m eta \u001b[36m0:00:00\u001b[0m\n",
            "\u001b[?25hDownloading thermo-0.3.0-py3-none-any.whl (10.4 MB)\n",
            "\u001b[2K   \u001b[90m━━━━━━━━━━━━━━━━━━━━━━━━━━━━━━━━━━━━━━━━\u001b[0m \u001b[32m10.4/10.4 MB\u001b[0m \u001b[31m3.0 MB/s\u001b[0m eta \u001b[36m0:00:00\u001b[0m\n",
            "\u001b[?25hDownloading pyglet-2.0.17-py3-none-any.whl (936 kB)\n",
            "\u001b[2K   \u001b[90m━━━━━━━━━━━━━━━━━━━━━━━━━━━━━━━━━━━━━━━━\u001b[0m \u001b[32m936.6/936.6 kB\u001b[0m \u001b[31m40.6 MB/s\u001b[0m eta \u001b[36m0:00:00\u001b[0m\n",
            "\u001b[?25hDownloading appdirs-1.4.4-py2.py3-none-any.whl (9.6 kB)\n",
            "Downloading chemicals-1.2.0-py3-none-any.whl (23.9 MB)\n",
            "\u001b[2K   \u001b[90m━━━━━━━━━━━━━━━━━━━━━━━━━━━━━━━━━━━━━━━━\u001b[0m \u001b[32m23.9/23.9 MB\u001b[0m \u001b[31m4.5 MB/s\u001b[0m eta \u001b[36m0:00:00\u001b[0m\n",
            "\u001b[?25hDownloading flexcache-0.3-py3-none-any.whl (13 kB)\n",
            "Downloading flexparser-0.3.1-py3-none-any.whl (27 kB)\n",
            "Downloading fluids-1.0.26-py3-none-any.whl (1.5 MB)\n",
            "\u001b[2K   \u001b[90m━━━━━━━━━━━━━━━━━━━━━━━━━━━━━━━━━━━━━━━━\u001b[0m \u001b[32m1.5/1.5 MB\u001b[0m \u001b[31m40.3 MB/s\u001b[0m eta \u001b[36m0:00:00\u001b[0m\n",
            "\u001b[?25hDownloading ansicolors-1.1.8-py2.py3-none-any.whl (13 kB)\n",
            "Downloading colorama-0.4.6-py2.py3-none-any.whl (25 kB)\n",
            "Building wheels for collected packages: biosteam, thermosteam, colorpalette, flexsolve\n",
            "  Building wheel for biosteam (setup.py) ... \u001b[?25l\u001b[?25hdone\n",
            "  Created wheel for biosteam: filename=biosteam-2.44.3-py3-none-any.whl size=475852 sha256=d6ba1149b3a933a9ffa30ca2c60721c0174bb98eb03e1498add24986f4be988d\n",
            "  Stored in directory: /root/.cache/pip/wheels/ff/20/a9/90a42124a1754bdec855aa2674c03150693c4635d1dc6f4c9e\n",
            "  Building wheel for thermosteam (setup.py) ... \u001b[?25l\u001b[?25hdone\n",
            "  Created wheel for thermosteam: filename=thermosteam-0.42.2-py3-none-any.whl size=2010543 sha256=4bbfd8f0047357135ec762e6f9adefc1448ecc963e73992cbe37b053e1fb885b\n",
            "  Stored in directory: /root/.cache/pip/wheels/22/ed/92/eead50d583f34c77b0ca6ad2ea88548ba4ddbb2e09e393e1a8\n",
            "  Building wheel for colorpalette (setup.py) ... \u001b[?25l\u001b[?25hdone\n",
            "  Created wheel for colorpalette: filename=colorpalette-0.3.3-py3-none-any.whl size=7944 sha256=185a6abfec6720b64170d021e4aabdb4a559061d67dda17801ddb9394617e8a6\n",
            "  Stored in directory: /root/.cache/pip/wheels/70/9b/63/25d6011a2c4637816a10d70db9c46b9596d7d9f4c22a6dd376\n",
            "  Building wheel for flexsolve (setup.py) ... \u001b[?25l\u001b[?25hdone\n",
            "  Created wheel for flexsolve: filename=flexsolve-0.5.7-py3-none-any.whl size=14739 sha256=9cf6a849e8732dc27ace5e684b448c7d68b7814bc150bc87adbcceb24d412c14\n",
            "  Stored in directory: /root/.cache/pip/wheels/56/43/8e/7929bf0d615e0181b9c2c05e067bc0236e5ed244ed1446fb1c\n",
            "Successfully built biosteam thermosteam colorpalette flexsolve\n",
            "Installing collected packages: free_properties, appdirs, ansicolors, pyglet, jedi, flexparser, flexcache, colorama, pint, numpoly, fluids, flexsolve, colorpalette, chemicals, chaospy, thermo, thermosteam, biosteam\n",
            "Successfully installed ansicolors-1.1.8 appdirs-1.4.4 biosteam-2.44.3 chaospy-4.3.16 chemicals-1.2.0 colorama-0.4.6 colorpalette-0.3.3 flexcache-0.3 flexparser-0.3.1 flexsolve-0.5.7 fluids-1.0.26 free_properties-0.3.6 jedi-0.19.1 numpoly-1.2.13 pint-0.24.3 pyglet-2.0.17 thermo-0.3.0 thermosteam-0.42.2\n"
          ]
        }
      ],
      "source": [
        "# install Biosteam\n",
        "!pip install biosteam"
      ]
    },
    {
      "cell_type": "code",
      "source": [
        "# import biosteam\n",
        "import biosteam as bst\n",
        "from biosteam import settings\n",
        "\n",
        "bst.nbtutorial()\n",
        "\n",
        "settings.set_thermo(['Water', 'Methanol'])\n",
        "\n",
        "feed =bst.Stream(Water=50, Methanol=20)\n",
        "\n",
        "feed.show()"
      ],
      "metadata": {
        "colab": {
          "base_uri": "https://localhost:8080/"
        },
        "id": "IOWMJaKMKGcH",
        "outputId": "23406863-d951-4d72-e416-994d4cfee4d3"
      },
      "execution_count": null,
      "outputs": [
        {
          "output_type": "stream",
          "name": "stdout",
          "text": [
            "Stream: s1\n",
            "phase: 'l', T: 298.15 K, P: 101325 Pa\n",
            "flow (kmol/hr): Water     50\n",
            "                Methanol  20\n"
          ]
        }
      ]
    },
    {
      "cell_type": "code",
      "source": [
        "# set prices for performing TEA later\n",
        "feed.price = 0.15 #usd/kg\n",
        "feed.cost"
      ],
      "metadata": {
        "colab": {
          "base_uri": "https://localhost:8080/"
        },
        "id": "Vvsq3P_qKxPg",
        "outputId": "de5eb037-6194-4bc0-af21-78122a07c955"
      },
      "execution_count": null,
      "outputs": [
        {
          "output_type": "execute_result",
          "data": {
            "text/plain": [
              "231.24018"
            ]
          },
          "metadata": {},
          "execution_count": 3
        }
      ]
    },
    {
      "cell_type": "code",
      "source": [
        "### Process Settings\n",
        "'''\n",
        "This includes the price of\n",
        "0 - price of feeds and products\n",
        "1 - conditions of utilities\n",
        "2 - cost index  These are to be set before the simulating a system\n",
        "'''\n",
        "\n",
        "settings.CEPCI = 603.1 # settings to year 2018\n",
        "settings.electricity_price = 0.065\n",
        "cooling_water = settings.get_cooling_agent('cooling_water')\n",
        "chilled_water = settings.get_cooling_agent('chilled_water')\n",
        "cooling_water.T = 302  # change the temperature of the cooling water"
      ],
      "metadata": {
        "id": "IRqy_LWtLEgW"
      },
      "execution_count": null,
      "outputs": []
    },
    {
      "cell_type": "code",
      "source": [
        "settings.cooling_agents"
      ],
      "metadata": {
        "colab": {
          "base_uri": "https://localhost:8080/"
        },
        "id": "xPzpBxuTNbof",
        "outputId": "28696955-66c2-4304-91b0-bbbe280c74af"
      },
      "execution_count": null,
      "outputs": [
        {
          "output_type": "execute_result",
          "data": {
            "text/plain": [
              "[<UtilityAgent: cooling_water>,\n",
              " <UtilityAgent: chilled_water>,\n",
              " <UtilityAgent: chilled_brine>,\n",
              " <UtilityAgent: propane>]"
            ]
          },
          "metadata": {},
          "execution_count": 7
        }
      ]
    },
    {
      "cell_type": "code",
      "source": [
        "cooling_water.show()"
      ],
      "metadata": {
        "colab": {
          "base_uri": "https://localhost:8080/"
        },
        "id": "5EQG7PtbNb-x",
        "outputId": "178a3f1e-e180-486b-9d6a-89a7ac670b58"
      },
      "execution_count": null,
      "outputs": [
        {
          "output_type": "stream",
          "name": "stdout",
          "text": [
            "UtilityAgent: cooling_water\n",
            "heat_transfer_efficiency: 1.000\n",
            "heat_transfer_price: 0 USD/kJ\n",
            "regeneration_price: 0.000488 USD/kmol\n",
            "T_limit: 325 K\n",
            "phase: 'l'\n",
            "T: 302 K\n",
            "P: 101325 Pa\n",
            "flow (kmol/hr): Water  1\n"
          ]
        }
      ]
    },
    {
      "cell_type": "code",
      "source": [
        "chilled_water.show()"
      ],
      "metadata": {
        "colab": {
          "base_uri": "https://localhost:8080/"
        },
        "id": "h2N5nis8NcG3",
        "outputId": "b1603ad1-651e-4950-9851-497972df891d"
      },
      "execution_count": null,
      "outputs": [
        {
          "output_type": "stream",
          "name": "stdout",
          "text": [
            "UtilityAgent: chilled_water\n",
            "heat_transfer_efficiency: 1.000\n",
            "heat_transfer_price: 5e-06 USD/kJ\n",
            "regeneration_price: 0 USD/kmol\n",
            "T_limit: 300 K\n",
            "phase: 'l'\n",
            "T: 280.37 K\n",
            "P: 101325 Pa\n",
            "flow (kmol/hr): Water  1\n"
          ]
        }
      ]
    },
    {
      "cell_type": "code",
      "source": [
        "settings.heating_agents"
      ],
      "metadata": {
        "colab": {
          "base_uri": "https://localhost:8080/"
        },
        "id": "yY2exi13NcPY",
        "outputId": "4e8f29f2-08ba-45e5-e616-a8c10c516e91"
      },
      "execution_count": null,
      "outputs": [
        {
          "output_type": "execute_result",
          "data": {
            "text/plain": [
              "[<UtilityAgent: low_pressure_steam>,\n",
              " <UtilityAgent: medium_pressure_steam>,\n",
              " <UtilityAgent: high_pressure_steam>]"
            ]
          },
          "metadata": {},
          "execution_count": 10
        }
      ]
    },
    {
      "cell_type": "code",
      "source": [
        "lps = settings.get_heating_agent('low_pressure_steam')\n",
        "lps.show()"
      ],
      "metadata": {
        "colab": {
          "base_uri": "https://localhost:8080/"
        },
        "id": "5L4mHoKSNcWR",
        "outputId": "e955a098-a3cb-4a96-8a0a-56273975b92d"
      },
      "execution_count": null,
      "outputs": [
        {
          "output_type": "stream",
          "name": "stdout",
          "text": [
            "UtilityAgent: low_pressure_steam\n",
            "heat_transfer_efficiency: 0.950\n",
            "heat_transfer_price: 0 USD/kJ\n",
            "regeneration_price: 0.238 USD/kmol\n",
            "T_limit: None\n",
            "phase: 'g'\n",
            "T: 412.19 K\n",
            "P: 344738 Pa\n",
            "flow (kmol/hr): Water  1\n"
          ]
        }
      ]
    },
    {
      "cell_type": "code",
      "source": [
        "lps.regeneration_price = 0.20\n",
        "lps.show()"
      ],
      "metadata": {
        "colab": {
          "base_uri": "https://localhost:8080/"
        },
        "id": "Dm4IHKKCNcbi",
        "outputId": "d4297402-1d7f-4a6e-c658-a0b2bb02bc84"
      },
      "execution_count": null,
      "outputs": [
        {
          "output_type": "stream",
          "name": "stdout",
          "text": [
            "UtilityAgent: low_pressure_steam\n",
            "heat_transfer_efficiency: 0.950\n",
            "heat_transfer_price: 0 USD/kJ\n",
            "regeneration_price: 0.2 USD/kmol\n",
            "T_limit: None\n",
            "phase: 'g'\n",
            "T: 412.19 K\n",
            "P: 344738 Pa\n",
            "flow (kmol/hr): Water  1\n"
          ]
        }
      ]
    },
    {
      "cell_type": "code",
      "source": [
        "# add ammonia as a refrigerant :\n",
        "\n",
        "Ammonia = bst.Chemical('Ammonia') # load ammonia properties\n",
        "P = 101325 * 1.2  # pressure should be atmospheric\n",
        "T = Ammonia.Tsat(P) # temperature should be at the bubble point for latent cooling\n",
        "\n",
        "ammonia = bst.UtilityAgent(\n",
        "    'ammonia',\n",
        "    Ammonia=1,\n",
        "    P=P,\n",
        "    T=T,\n",
        "    phase ='l',\n",
        "    thermo = bst.Thermo([Ammonia]),\n",
        "    heat_transfer_price= 13.17e-6,\n",
        ")\n",
        "\n",
        "settings.cooling_agents.append(ammonia)"
      ],
      "metadata": {
        "id": "D4U2izrqOXUD"
      },
      "execution_count": null,
      "outputs": []
    },
    {
      "cell_type": "code",
      "source": [
        "## Finding design requirements and costs with Unit Object\n",
        "\n",
        "# specify vapor fraction and isobaric conditions\n",
        "\n",
        "F1 = bst.Flash('F1', ins=feed, V=0.1, P=101325)\n",
        "F1.show() # Show the conditions without simulations"
      ],
      "metadata": {
        "colab": {
          "base_uri": "https://localhost:8080/"
        },
        "id": "-scS9X_BOZu3",
        "outputId": "db53166e-d876-4ca2-d2c8-ab3770f7e4b8"
      },
      "execution_count": null,
      "outputs": [
        {
          "output_type": "stream",
          "name": "stdout",
          "text": [
            "Flash: F1\n",
            "ins...\n",
            "[0] s1  \n",
            "    phase: 'l', T: 298.15 K, P: 101325 Pa\n",
            "    flow (kmol/hr): Water     50\n",
            "                    Methanol  20\n",
            "outs...\n",
            "[0] s2  \n",
            "    phase: 'l', T: 298.15 K, P: 101325 Pa\n",
            "    flow: 0\n",
            "[1] s3  \n",
            "    phase: 'l', T: 298.15 K, P: 101325 Pa\n",
            "    flow: 0\n"
          ]
        }
      ]
    },
    {
      "cell_type": "code",
      "source": [
        "# Run the simulation and show the values again\n",
        "F1.simulate()\n",
        "F1.show() # this should give values for the outlet streams and the liquids and gas separations clearly showing"
      ],
      "metadata": {
        "colab": {
          "base_uri": "https://localhost:8080/"
        },
        "id": "U7GjHL7oOZ6p",
        "outputId": "77b21a16-012a-4c5c-9511-102245755c2e"
      },
      "execution_count": null,
      "outputs": [
        {
          "output_type": "stream",
          "name": "stdout",
          "text": [
            "Flash: F1\n",
            "ins...\n",
            "[0] s1  \n",
            "    phase: 'l', T: 298.15 K, P: 101325 Pa\n",
            "    flow (kmol/hr): Water     50\n",
            "                    Methanol  20\n",
            "outs...\n",
            "[0] s2  \n",
            "    phase: 'g', T: 352.84 K, P: 101325 Pa\n",
            "    flow (kmol/hr): Water     2.59\n",
            "                    Methanol  4.41\n",
            "[1] s3  \n",
            "    phase: 'l', T: 352.84 K, P: 101325 Pa\n",
            "    flow (kmol/hr): Water     47.4\n",
            "                    Methanol  15.6\n"
          ]
        }
      ]
    },
    {
      "cell_type": "code",
      "source": [
        "F1.results()"
      ],
      "metadata": {
        "colab": {
          "base_uri": "https://localhost:8080/",
          "height": 435
        },
        "id": "swfK3FXgOaBA",
        "outputId": "c5e3834f-d95a-42d4-906a-ab2f612c5edf"
      },
      "execution_count": null,
      "outputs": [
        {
          "output_type": "execute_result",
          "data": {
            "text/plain": [
              "Flash                                               Units            F1\n",
              "Low pressure steam  Duty                            kJ/hr      5.92e+05\n",
              "                    Flow                          kmol/hr          15.3\n",
              "                    Cost                           USD/hr          3.06\n",
              "Design              Vessel type                              Horizontal\n",
              "                    Length                             ft          6.44\n",
              "                    Diameter                           ft             4\n",
              "                    Weight                             lb      1.38e+03\n",
              "                    Wall thickness                     in         0.312\n",
              "                    Vessel material                        Carbon steel\n",
              "Purchase cost       Horizontal pressure vessel        USD      1.12e+04\n",
              "                    Platform and ladders              USD      3.21e+03\n",
              "                    Heat exchanger - Double pipe      USD       4.3e+03\n",
              "Total purchase cost                                   USD      1.87e+04\n",
              "Utility cost                                       USD/hr          3.06"
            ],
            "text/html": [
              "\n",
              "  <div id=\"df-8954e303-2da8-40c4-9dd5-10ce71fc7136\" class=\"colab-df-container\">\n",
              "    <div>\n",
              "<style scoped>\n",
              "    .dataframe tbody tr th:only-of-type {\n",
              "        vertical-align: middle;\n",
              "    }\n",
              "\n",
              "    .dataframe tbody tr th {\n",
              "        vertical-align: top;\n",
              "    }\n",
              "\n",
              "    .dataframe thead th {\n",
              "        text-align: right;\n",
              "    }\n",
              "</style>\n",
              "<table border=\"1\" class=\"dataframe\">\n",
              "  <thead>\n",
              "    <tr style=\"text-align: right;\">\n",
              "      <th></th>\n",
              "      <th>Flash</th>\n",
              "      <th>Units</th>\n",
              "      <th>F1</th>\n",
              "    </tr>\n",
              "  </thead>\n",
              "  <tbody>\n",
              "    <tr>\n",
              "      <th rowspan=\"3\" valign=\"top\">Low pressure steam</th>\n",
              "      <th>Duty</th>\n",
              "      <td>kJ/hr</td>\n",
              "      <td>5.92e+05</td>\n",
              "    </tr>\n",
              "    <tr>\n",
              "      <th>Flow</th>\n",
              "      <td>kmol/hr</td>\n",
              "      <td>15.3</td>\n",
              "    </tr>\n",
              "    <tr>\n",
              "      <th>Cost</th>\n",
              "      <td>USD/hr</td>\n",
              "      <td>3.06</td>\n",
              "    </tr>\n",
              "    <tr>\n",
              "      <th rowspan=\"6\" valign=\"top\">Design</th>\n",
              "      <th>Vessel type</th>\n",
              "      <td></td>\n",
              "      <td>Horizontal</td>\n",
              "    </tr>\n",
              "    <tr>\n",
              "      <th>Length</th>\n",
              "      <td>ft</td>\n",
              "      <td>6.44</td>\n",
              "    </tr>\n",
              "    <tr>\n",
              "      <th>Diameter</th>\n",
              "      <td>ft</td>\n",
              "      <td>4</td>\n",
              "    </tr>\n",
              "    <tr>\n",
              "      <th>Weight</th>\n",
              "      <td>lb</td>\n",
              "      <td>1.38e+03</td>\n",
              "    </tr>\n",
              "    <tr>\n",
              "      <th>Wall thickness</th>\n",
              "      <td>in</td>\n",
              "      <td>0.312</td>\n",
              "    </tr>\n",
              "    <tr>\n",
              "      <th>Vessel material</th>\n",
              "      <td></td>\n",
              "      <td>Carbon steel</td>\n",
              "    </tr>\n",
              "    <tr>\n",
              "      <th rowspan=\"3\" valign=\"top\">Purchase cost</th>\n",
              "      <th>Horizontal pressure vessel</th>\n",
              "      <td>USD</td>\n",
              "      <td>1.12e+04</td>\n",
              "    </tr>\n",
              "    <tr>\n",
              "      <th>Platform and ladders</th>\n",
              "      <td>USD</td>\n",
              "      <td>3.21e+03</td>\n",
              "    </tr>\n",
              "    <tr>\n",
              "      <th>Heat exchanger - Double pipe</th>\n",
              "      <td>USD</td>\n",
              "      <td>4.3e+03</td>\n",
              "    </tr>\n",
              "    <tr>\n",
              "      <th>Total purchase cost</th>\n",
              "      <th></th>\n",
              "      <td>USD</td>\n",
              "      <td>1.87e+04</td>\n",
              "    </tr>\n",
              "    <tr>\n",
              "      <th>Utility cost</th>\n",
              "      <th></th>\n",
              "      <td>USD/hr</td>\n",
              "      <td>3.06</td>\n",
              "    </tr>\n",
              "  </tbody>\n",
              "</table>\n",
              "</div>\n",
              "    <div class=\"colab-df-buttons\">\n",
              "\n",
              "  <div class=\"colab-df-container\">\n",
              "    <button class=\"colab-df-convert\" onclick=\"convertToInteractive('df-8954e303-2da8-40c4-9dd5-10ce71fc7136')\"\n",
              "            title=\"Convert this dataframe to an interactive table.\"\n",
              "            style=\"display:none;\">\n",
              "\n",
              "  <svg xmlns=\"http://www.w3.org/2000/svg\" height=\"24px\" viewBox=\"0 -960 960 960\">\n",
              "    <path d=\"M120-120v-720h720v720H120Zm60-500h600v-160H180v160Zm220 220h160v-160H400v160Zm0 220h160v-160H400v160ZM180-400h160v-160H180v160Zm440 0h160v-160H620v160ZM180-180h160v-160H180v160Zm440 0h160v-160H620v160Z\"/>\n",
              "  </svg>\n",
              "    </button>\n",
              "\n",
              "  <style>\n",
              "    .colab-df-container {\n",
              "      display:flex;\n",
              "      gap: 12px;\n",
              "    }\n",
              "\n",
              "    .colab-df-convert {\n",
              "      background-color: #E8F0FE;\n",
              "      border: none;\n",
              "      border-radius: 50%;\n",
              "      cursor: pointer;\n",
              "      display: none;\n",
              "      fill: #1967D2;\n",
              "      height: 32px;\n",
              "      padding: 0 0 0 0;\n",
              "      width: 32px;\n",
              "    }\n",
              "\n",
              "    .colab-df-convert:hover {\n",
              "      background-color: #E2EBFA;\n",
              "      box-shadow: 0px 1px 2px rgba(60, 64, 67, 0.3), 0px 1px 3px 1px rgba(60, 64, 67, 0.15);\n",
              "      fill: #174EA6;\n",
              "    }\n",
              "\n",
              "    .colab-df-buttons div {\n",
              "      margin-bottom: 4px;\n",
              "    }\n",
              "\n",
              "    [theme=dark] .colab-df-convert {\n",
              "      background-color: #3B4455;\n",
              "      fill: #D2E3FC;\n",
              "    }\n",
              "\n",
              "    [theme=dark] .colab-df-convert:hover {\n",
              "      background-color: #434B5C;\n",
              "      box-shadow: 0px 1px 3px 1px rgba(0, 0, 0, 0.15);\n",
              "      filter: drop-shadow(0px 1px 2px rgba(0, 0, 0, 0.3));\n",
              "      fill: #FFFFFF;\n",
              "    }\n",
              "  </style>\n",
              "\n",
              "    <script>\n",
              "      const buttonEl =\n",
              "        document.querySelector('#df-8954e303-2da8-40c4-9dd5-10ce71fc7136 button.colab-df-convert');\n",
              "      buttonEl.style.display =\n",
              "        google.colab.kernel.accessAllowed ? 'block' : 'none';\n",
              "\n",
              "      async function convertToInteractive(key) {\n",
              "        const element = document.querySelector('#df-8954e303-2da8-40c4-9dd5-10ce71fc7136');\n",
              "        const dataTable =\n",
              "          await google.colab.kernel.invokeFunction('convertToInteractive',\n",
              "                                                    [key], {});\n",
              "        if (!dataTable) return;\n",
              "\n",
              "        const docLinkHtml = 'Like what you see? Visit the ' +\n",
              "          '<a target=\"_blank\" href=https://colab.research.google.com/notebooks/data_table.ipynb>data table notebook</a>'\n",
              "          + ' to learn more about interactive tables.';\n",
              "        element.innerHTML = '';\n",
              "        dataTable['output_type'] = 'display_data';\n",
              "        await google.colab.output.renderOutput(dataTable, element);\n",
              "        const docLink = document.createElement('div');\n",
              "        docLink.innerHTML = docLinkHtml;\n",
              "        element.appendChild(docLink);\n",
              "      }\n",
              "    </script>\n",
              "  </div>\n",
              "\n",
              "\n",
              "<div id=\"df-90b16629-c9d3-4416-b089-34d9b48b5611\">\n",
              "  <button class=\"colab-df-quickchart\" onclick=\"quickchart('df-90b16629-c9d3-4416-b089-34d9b48b5611')\"\n",
              "            title=\"Suggest charts\"\n",
              "            style=\"display:none;\">\n",
              "\n",
              "<svg xmlns=\"http://www.w3.org/2000/svg\" height=\"24px\"viewBox=\"0 0 24 24\"\n",
              "     width=\"24px\">\n",
              "    <g>\n",
              "        <path d=\"M19 3H5c-1.1 0-2 .9-2 2v14c0 1.1.9 2 2 2h14c1.1 0 2-.9 2-2V5c0-1.1-.9-2-2-2zM9 17H7v-7h2v7zm4 0h-2V7h2v10zm4 0h-2v-4h2v4z\"/>\n",
              "    </g>\n",
              "</svg>\n",
              "  </button>\n",
              "\n",
              "<style>\n",
              "  .colab-df-quickchart {\n",
              "      --bg-color: #E8F0FE;\n",
              "      --fill-color: #1967D2;\n",
              "      --hover-bg-color: #E2EBFA;\n",
              "      --hover-fill-color: #174EA6;\n",
              "      --disabled-fill-color: #AAA;\n",
              "      --disabled-bg-color: #DDD;\n",
              "  }\n",
              "\n",
              "  [theme=dark] .colab-df-quickchart {\n",
              "      --bg-color: #3B4455;\n",
              "      --fill-color: #D2E3FC;\n",
              "      --hover-bg-color: #434B5C;\n",
              "      --hover-fill-color: #FFFFFF;\n",
              "      --disabled-bg-color: #3B4455;\n",
              "      --disabled-fill-color: #666;\n",
              "  }\n",
              "\n",
              "  .colab-df-quickchart {\n",
              "    background-color: var(--bg-color);\n",
              "    border: none;\n",
              "    border-radius: 50%;\n",
              "    cursor: pointer;\n",
              "    display: none;\n",
              "    fill: var(--fill-color);\n",
              "    height: 32px;\n",
              "    padding: 0;\n",
              "    width: 32px;\n",
              "  }\n",
              "\n",
              "  .colab-df-quickchart:hover {\n",
              "    background-color: var(--hover-bg-color);\n",
              "    box-shadow: 0 1px 2px rgba(60, 64, 67, 0.3), 0 1px 3px 1px rgba(60, 64, 67, 0.15);\n",
              "    fill: var(--button-hover-fill-color);\n",
              "  }\n",
              "\n",
              "  .colab-df-quickchart-complete:disabled,\n",
              "  .colab-df-quickchart-complete:disabled:hover {\n",
              "    background-color: var(--disabled-bg-color);\n",
              "    fill: var(--disabled-fill-color);\n",
              "    box-shadow: none;\n",
              "  }\n",
              "\n",
              "  .colab-df-spinner {\n",
              "    border: 2px solid var(--fill-color);\n",
              "    border-color: transparent;\n",
              "    border-bottom-color: var(--fill-color);\n",
              "    animation:\n",
              "      spin 1s steps(1) infinite;\n",
              "  }\n",
              "\n",
              "  @keyframes spin {\n",
              "    0% {\n",
              "      border-color: transparent;\n",
              "      border-bottom-color: var(--fill-color);\n",
              "      border-left-color: var(--fill-color);\n",
              "    }\n",
              "    20% {\n",
              "      border-color: transparent;\n",
              "      border-left-color: var(--fill-color);\n",
              "      border-top-color: var(--fill-color);\n",
              "    }\n",
              "    30% {\n",
              "      border-color: transparent;\n",
              "      border-left-color: var(--fill-color);\n",
              "      border-top-color: var(--fill-color);\n",
              "      border-right-color: var(--fill-color);\n",
              "    }\n",
              "    40% {\n",
              "      border-color: transparent;\n",
              "      border-right-color: var(--fill-color);\n",
              "      border-top-color: var(--fill-color);\n",
              "    }\n",
              "    60% {\n",
              "      border-color: transparent;\n",
              "      border-right-color: var(--fill-color);\n",
              "    }\n",
              "    80% {\n",
              "      border-color: transparent;\n",
              "      border-right-color: var(--fill-color);\n",
              "      border-bottom-color: var(--fill-color);\n",
              "    }\n",
              "    90% {\n",
              "      border-color: transparent;\n",
              "      border-bottom-color: var(--fill-color);\n",
              "    }\n",
              "  }\n",
              "</style>\n",
              "\n",
              "  <script>\n",
              "    async function quickchart(key) {\n",
              "      const quickchartButtonEl =\n",
              "        document.querySelector('#' + key + ' button');\n",
              "      quickchartButtonEl.disabled = true;  // To prevent multiple clicks.\n",
              "      quickchartButtonEl.classList.add('colab-df-spinner');\n",
              "      try {\n",
              "        const charts = await google.colab.kernel.invokeFunction(\n",
              "            'suggestCharts', [key], {});\n",
              "      } catch (error) {\n",
              "        console.error('Error during call to suggestCharts:', error);\n",
              "      }\n",
              "      quickchartButtonEl.classList.remove('colab-df-spinner');\n",
              "      quickchartButtonEl.classList.add('colab-df-quickchart-complete');\n",
              "    }\n",
              "    (() => {\n",
              "      let quickchartButtonEl =\n",
              "        document.querySelector('#df-90b16629-c9d3-4416-b089-34d9b48b5611 button');\n",
              "      quickchartButtonEl.style.display =\n",
              "        google.colab.kernel.accessAllowed ? 'block' : 'none';\n",
              "    })();\n",
              "  </script>\n",
              "</div>\n",
              "\n",
              "    </div>\n",
              "  </div>\n"
            ],
            "application/vnd.google.colaboratory.intrinsic+json": {
              "type": "dataframe",
              "summary": "{\n  \"name\": \"F1\",\n  \"rows\": 14,\n  \"fields\": [\n    {\n      \"column\": \"Units\",\n      \"properties\": {\n        \"dtype\": \"string\",\n        \"num_unique_values\": 8,\n        \"samples\": [\n          \"kmol/hr\",\n          \"lb\",\n          \"kJ/hr\"\n        ],\n        \"semantic_type\": \"\",\n        \"description\": \"\"\n      }\n    },\n    {\n      \"column\": \"F1\",\n      \"properties\": {\n        \"dtype\": \"string\",\n        \"num_unique_values\": 13,\n        \"samples\": [\n          4298.817919096937,\n          11192.261517309551,\n          591521.1044683229\n        ],\n        \"semantic_type\": \"\",\n        \"description\": \"\"\n      }\n    }\n  ]\n}"
            }
          },
          "metadata": {},
          "execution_count": 18
        }
      ]
    },
    {
      "cell_type": "code",
      "source": [
        "## Solving recycle loops and process specifications with system obects\n",
        "\n",
        "# we will design a simple recycle process consisting of a flash and a partical liquid recycle loop\n",
        "\n",
        "recycle = bst.Stream('liquid_recycle')\n",
        "feed = bst.Stream('feed', Methanol=100, Water=450)\n",
        "\n",
        "# mixer to mix both recycle and feed stream\n",
        "M1 = bst.Mixer('M1', ins=(recycle, feed))\n",
        "\n",
        "# Flash drum to set downstream the Mixer\n",
        "F1 = bst.Flash('F1',\n",
        "               ins=M1-0,\n",
        "               outs=('vapor_product', 'liquid'),\n",
        "               V=0.1, P=101325)\n",
        "\n",
        "# Splitter downstream the flash\n",
        "\n",
        "S1 = bst.Splitter('S1',\n",
        "                  ins=F1-1,\n",
        "                  outs=(recycle, 'liquid_product'),\n",
        "                  split=0.5\n",
        "                  )"
      ],
      "metadata": {
        "id": "JHzaDm7aOaGk"
      },
      "execution_count": null,
      "outputs": []
    },
    {
      "cell_type": "code",
      "source": [
        "bst.main_flowsheet.diagram()"
      ],
      "metadata": {
        "colab": {
          "base_uri": "https://localhost:8080/",
          "height": 421
        },
        "id": "dH91MpotOaLI",
        "outputId": "e1e547ed-2732-4b54-bb6d-dedd3ac2a8b4"
      },
      "execution_count": null,
      "outputs": [
        {
          "output_type": "display_data",
          "data": {
            "text/plain": [
              "<IPython.lib.display.IFrame at 0x7b087f2bae90>"
            ],
            "text/html": [
              "\n",
              "        <iframe\n",
              "            width=\"100%\"\n",
              "            height=\"400px\"\n",
              "            src=\"data:text/html;charset=utf-8,%3C%21DOCTYPE%20html%3E%3Chtml%3E%3Chead%3E%3Clink%20rel%3D%22stylesheet%22%20href%3D%22https%3A//unpkg.com/tippy.js%406.3.7/themes/translucent.css%22%3E%3Clink%20rel%3D%22stylesheet%22%20href%3D%22https%3A//rawcdn.githack.com/BioSTEAMDevelopmentGroup/biosteam/e065aca079c216d72b75949bbcbb74a3bbddb75d/biosteam/digraph/digraph.css%22%3E%3Cscript%20src%3D%22https%3A//unpkg.com/%40popperjs/core%402%22%3E%3C/script%3E%3Cscript%20src%3D%22https%3A//unpkg.com/tippy.js%406%22%3E%3C/script%3E%3Cscript%20src%3D%22https%3A//rawcdn.githack.com/BioSTEAMDevelopmentGroup/biosteam/e065aca079c216d72b75949bbcbb74a3bbddb75d/biosteam/digraph/digraph.js%22%3E%3C/script%3E%3C/head%3E%3Cbody%3E%3Csvg%20width%3D%22706pt%22%20height%3D%22233pt%22%20viewBox%3D%220.00%200.00%20706.30%20232.74%22%3E%0A%3Cg%20id%3D%22graph0%22%20class%3D%22graph%22%20transform%3D%22scale%281%201%29%20rotate%280%29%20translate%284%20228.74%29%22%3E%0A%3Cpolygon%20fill%3D%22%23ffffff%22%20fill-opacity%3D%220.666667%22%20stroke%3D%22transparent%22%20points%3D%22-4%2C4%20-4%2C-228.74%20702.3%2C-228.74%20702.3%2C4%20-4%2C4%22%3E%3C/polygon%3E%0A%0A%3Cg%20id%3D%22edge2%22%20class%3D%22edge%22%20data-tippy-content%3D%22%28empty%29%22%3E%0A%3Cpath%20fill%3D%22none%22%20stroke%3D%22%234e4e4e%22%20stroke-dasharray%3D%225%2C2%22%20d%3D%22M199.42%2C-62.74C216.26%2C-62.74%20231.17%2C-72.21%20243.17%2C-83.92%22%3E%3C/path%3E%0A%3Cpolygon%20fill%3D%22%234e4e4e%22%20stroke%3D%22%234e4e4e%22%20points%3D%22240.85%2C-86.57%20250.26%2C-91.44%20245.95%2C-81.76%20240.85%2C-86.57%22%3E%3C/polygon%3E%0A%3Cg%20id%3D%22a_edge2-label%22%3E%3Ca%20title%3D%22%28empty%29%22%3E%0A%3Ctext%20text-anchor%3D%22middle%22%20x%3D%22216.92%22%20y%3D%22-73.54%22%20font-family%3D%22Arial%22%20font-size%3D%2214.00%22%20fill%3D%22%234e4e4e%22%3E%20s4%3C/text%3E%0A%3C/a%3E%0A%3C/g%3E%0A%3C/g%3E%0A%0A%3Cg%20id%3D%22edge5%22%20class%3D%22edge%22%20data-tippy-content%3D%22%28empty%29%22%3E%0A%3Cpath%20fill%3D%22none%22%20stroke%3D%22%234e4e4e%22%20stroke-dasharray%3D%225%2C2%22%20d%3D%22M275.42%2C-87.74C275.42%2C-57.69%20368.26%2C-54.17%20409.33%2C-53.78%22%3E%3C/path%3E%0A%3Cpolygon%20fill%3D%22%234e4e4e%22%20stroke%3D%22%234e4e4e%22%20points%3D%22409.44%2C-57.28%20419.42%2C-53.74%20409.41%2C-50.28%20409.44%2C-57.28%22%3E%3C/polygon%3E%0A%3Cg%20id%3D%22a_edge5-label%22%3E%3Ca%20title%3D%22%28empty%29%22%3E%0A%3Ctext%20text-anchor%3D%22middle%22%20x%3D%22367.92%22%20y%3D%22-64.54%22%20font-family%3D%22Arial%22%20font-size%3D%2214.00%22%20fill%3D%22%234e4e4e%22%3E%20liquid%3C/text%3E%0A%3C/a%3E%0A%3C/g%3E%0A%3C/g%3E%0A%0A%3Cg%20id%3D%22edge3%22%20class%3D%22edge%22%20data-tippy-content%3D%22%28empty%29%22%3E%0A%3Cpath%20fill%3D%22none%22%20stroke%3D%22%234e4e4e%22%20stroke-dasharray%3D%225%2C2%22%20d%3D%22M275.42%2C-167.74C275.42%2C-267.05%20399.55%2C-166.74%20498.86%2C-166.74%22%3E%3C/path%3E%0A%3Cg%20id%3D%22a_edge3-label%22%3E%3Ca%20title%3D%22%28empty%29%22%3E%0A%3Ctext%20text-anchor%3D%22middle%22%20x%3D%22367.92%22%20y%3D%22-213.54%22%20font-family%3D%22Arial%22%20font-size%3D%2214.00%22%20fill%3D%22%234e4e4e%22%3E%20vapor%20product%3C/text%3E%0A%3C/a%3E%0A%3C/g%3E%0A%3C/g%3E%0A%0A%3Cg%20id%3D%22edge1%22%20class%3D%22edge%22%20data-tippy-content%3D%22%28empty%29%22%3E%0A%3Cpath%20fill%3D%22none%22%20stroke%3D%22%234e4e4e%22%20stroke-dasharray%3D%225%2C2%22%20d%3D%22M423.66%2C-51.87C364.28%2C-51.03%20280.63%2C-51.09%20207.42%2C-55.74%20204.57%2C-55.92%20201.66%2C-56.12%20198.72%2C-56.33%22%3E%3C/path%3E%0A%3Cpolygon%20fill%3D%22%234e4e4e%22%20stroke%3D%22%234e4e4e%22%20points%3D%22198.37%2C-52.85%20188.66%2C-57.1%20198.9%2C-59.83%20198.37%2C-52.85%22%3E%3C/polygon%3E%0A%3Cg%20id%3D%22a_edge1-label%22%3E%3Ca%20title%3D%22%28empty%29%22%3E%0A%3Ctext%20text-anchor%3D%22middle%22%20x%3D%22275.42%22%20y%3D%22-58.54%22%20font-family%3D%22Arial%22%20font-size%3D%2214.00%22%20fill%3D%22%234e4e4e%22%3E%20liquid%20recycle%3C/text%3E%0A%3C/a%3E%0A%3C/g%3E%0A%3C/g%3E%0A%0A%3Cg%20id%3D%22edge6%22%20class%3D%22edge%22%20data-tippy-content%3D%22%28empty%29%22%3E%0A%3Cpath%20fill%3D%22none%22%20stroke%3D%22%234e4e4e%22%20stroke-dasharray%3D%225%2C2%22%20d%3D%22M544.63%2C-53.74C582.1%2C-53.74%20639.19%2C-53.74%20688.8%2C-53.74%22%3E%3C/path%3E%0A%3Cg%20id%3D%22a_edge6-label%22%3E%3Ca%20title%3D%22%28empty%29%22%3E%0A%3Ctext%20text-anchor%3D%22middle%22%20x%3D%22636.8%22%20y%3D%22-57.54%22%20font-family%3D%22Arial%22%20font-size%3D%2214.00%22%20fill%3D%22%234e4e4e%22%3E%20liquid%20product%3C/text%3E%0A%3C/a%3E%0A%3C/g%3E%0A%3C/g%3E%0A%0A%3Cg%20id%3D%22edge4%22%20class%3D%22edge%22%20data-tippy-content%3D%22Temperature%3A%20298.15%20K%3Cbr%26gt%3BPressure%3A%20101325%20Pa%3Cbr%26gt%3BLiquid%20flow%3A%20550%20kmol/hr%22%3E%0A%3Cpath%20fill%3D%22none%22%20stroke%3D%22%234e4e4e%22%20d%3D%22M11%2C-62.74C38.66%2C-62.74%2070%2C-62.74%2093.24%2C-62.74%22%3E%3C/path%3E%0A%3Cg%20id%3D%22a_edge4-label%22%3E%3Ca%20title%3D%22%20Temperature%3A%20298.15%20K%3Cbr%26gt%3BPressure%3A%20101325%20Pa%3Cbr%26gt%3BLiquid%20flow%3A%20550%20kmol/hr%22%3E%0A%3Ctext%20text-anchor%3D%22middle%22%20x%3D%2234.5%22%20y%3D%22-66.54%22%20font-family%3D%22Arial%22%20font-size%3D%2214.00%22%20fill%3D%22%234e4e4e%22%3E%20feed%3C/text%3E%0A%3C/a%3E%0A%3C/g%3E%0A%3C/g%3E%0A%0A%3Cg%20id%3D%22node1%22%20class%3D%22node%22%20data-tippy-content%3D%22No%20capital%20costs%20or%20utilities%22%3E%0A%3Cg%20id%3D%22a_node1%22%3E%3Ca%20title%3D%22%20No%20capital%20costs%20or%20utilities%22%3E%0A%3Cdefs%3E%0A%3ClinearGradient%20id%3D%22l_0%22%20gradientUnits%3D%22userSpaceOnUse%22%20x1%3D%2293.25%22%20y1%3D%22-62.74%22%20x2%3D%22199.63%22%20y2%3D%22-62.74%22%3E%0A%3Cstop%20offset%3D%220%22%20style%3D%22stop-color%3Awhite%3Bstop-opacity%3A1.%3B%22%3E%3C/stop%3E%0A%3Cstop%20offset%3D%221%22%20style%3D%22stop-color%3A%23cdcdcd%3Bstop-opacity%3A1.%3B%22%3E%3C/stop%3E%0A%3C/linearGradient%3E%0A%3C/defs%3E%0A%3Cpolygon%20fill%3D%22url%28%23l_0%29%22%20stroke%3D%22%234e4e4e%22%20points%3D%22199.63%2C-62.74%2093.25%2C-116.72%2093.25%2C-8.76%20199.63%2C-62.74%22%3E%3C/polygon%3E%0A%3Ctext%20text-anchor%3D%22middle%22%20x%3D%22128.71%22%20y%3D%22-66.54%22%20font-family%3D%22Arial%22%20font-size%3D%2214.00%22%3EM1%3C/text%3E%0A%3Ctext%20text-anchor%3D%22middle%22%20x%3D%22128.71%22%20y%3D%22-51.54%22%20font-family%3D%22Arial%22%20font-size%3D%2214.00%22%3EMixer%3C/text%3E%0A%3C/a%3E%0A%3C/g%3E%0A%3C/g%3E%0A%0A%3Cg%20id%3D%22node2%22%20class%3D%22node%22%20data-tippy-content%3D%22No%20capital%20costs%20or%20utilities%22%3E%0A%3Cg%20id%3D%22a_node2%22%3E%3Ca%20title%3D%22%20No%20capital%20costs%20or%20utilities%22%3E%0A%3Cdefs%3E%0A%3ClinearGradient%20id%3D%22l_1%22%20gradientUnits%3D%22userSpaceOnUse%22%20x1%3D%22250.42%22%20y1%3D%22-127.74%22%20x2%3D%22300.42%22%20y2%3D%22-127.74%22%3E%0A%3Cstop%20offset%3D%220%22%20style%3D%22stop-color%3Awhite%3Bstop-opacity%3A1.%3B%22%3E%3C/stop%3E%0A%3Cstop%20offset%3D%221%22%20style%3D%22stop-color%3A%23cdcdcd%3Bstop-opacity%3A1.%3B%22%3E%3C/stop%3E%0A%3C/linearGradient%3E%0A%3C/defs%3E%0A%3Cpolygon%20fill%3D%22url%28%23l_1%29%22%20stroke%3D%22%234e4e4e%22%20points%3D%22300.42%2C-167.24%20250.42%2C-167.24%20250.42%2C-88.24%20300.42%2C-88.24%20300.42%2C-167.24%22%3E%3C/polygon%3E%0A%3Ctext%20text-anchor%3D%22middle%22%20x%3D%22275.42%22%20y%3D%22-131.54%22%20font-family%3D%22Arial%22%20font-size%3D%2214.00%22%3EF1%3C/text%3E%0A%3Ctext%20text-anchor%3D%22middle%22%20x%3D%22275.42%22%20y%3D%22-116.54%22%20font-family%3D%22Arial%22%20font-size%3D%2214.00%22%3EFlash%3C/text%3E%0A%3C/a%3E%0A%3C/g%3E%0A%3C/g%3E%0A%0A%3Cg%20id%3D%22node3%22%20class%3D%22node%22%20data-tippy-content%3D%22No%20capital%20costs%20or%20utilities%22%3E%0A%3Cg%20id%3D%22a_node3%22%3E%3Ca%20title%3D%22%20No%20capital%20costs%20or%20utilities%22%3E%0A%3Cdefs%3E%0A%3ClinearGradient%20id%3D%22l_2%22%20gradientUnits%3D%22userSpaceOnUse%22%20x1%3D%22419.48%22%20y1%3D%22-53.74%22%20x2%3D%22544.55%22%20y2%3D%22-53.74%22%3E%0A%3Cstop%20offset%3D%220%22%20style%3D%22stop-color%3Awhite%3Bstop-opacity%3A1.%3B%22%3E%3C/stop%3E%0A%3Cstop%20offset%3D%221%22%20style%3D%22stop-color%3A%23cdcdcd%3Bstop-opacity%3A1.%3B%22%3E%3C/stop%3E%0A%3C/linearGradient%3E%0A%3C/defs%3E%0A%3Cpolygon%20fill%3D%22url%28%23l_2%29%22%20stroke%3D%22%234e4e4e%22%20points%3D%22419.48%2C-53.74%20544.55%2C0.24%20544.55%2C-107.72%20419.48%2C-53.74%22%3E%3C/polygon%3E%0A%3Ctext%20text-anchor%3D%22middle%22%20x%3D%22502.86%22%20y%3D%22-57.54%22%20font-family%3D%22Arial%22%20font-size%3D%2214.00%22%3ES1%3C/text%3E%0A%3Ctext%20text-anchor%3D%22middle%22%20x%3D%22502.86%22%20y%3D%22-42.54%22%20font-family%3D%22Arial%22%20font-size%3D%2214.00%22%3ESplitter%3C/text%3E%0A%3C/a%3E%0A%3C/g%3E%0A%3C/g%3E%0A%0A%3Cg%20id%3D%22node4%22%20class%3D%22node%22%20data-tippy-content%3D%228454775948952%22%3E%0A%3Cpolygon%20fill%3D%22%23f98f60%22%20stroke%3D%22%234e4e4e%22%20points%3D%22508.36%2C-166.74%20500.11%2C-173.74%20500.11%2C-159.74%20508.36%2C-166.74%22%3E%3C/polygon%3E%0A%3C/g%3E%0A%0A%3Cg%20id%3D%22node5%22%20class%3D%22node%22%20data-tippy-content%3D%228454775949192%22%3E%0A%3Cpolygon%20fill%3D%22%23f98f60%22%20stroke%3D%22%234e4e4e%22%20points%3D%225.5%2C-68.24%200%2C-62.74%205.5%2C-57.24%2011%2C-62.74%205.5%2C-68.24%22%3E%3C/polygon%3E%0A%3C/g%3E%0A%0A%3Cg%20id%3D%22node6%22%20class%3D%22node%22%20data-tippy-content%3D%228454775948640%22%3E%0A%3Cpolygon%20fill%3D%22%23f98f60%22%20stroke%3D%22%234e4e4e%22%20points%3D%22698.3%2C-53.74%20690.05%2C-60.74%20690.05%2C-46.74%20698.3%2C-53.74%22%3E%3C/polygon%3E%0A%3C/g%3E%0A%3C/g%3E%0A%3C/svg%3E%3C/body%3E%3C/html%3E\"\n",
              "            frameborder=\"0\"\n",
              "            allowfullscreen\n",
              "            allowtransparency=\"true\"\n",
              "        ></iframe>\n",
              "        "
            ]
          },
          "metadata": {}
        }
      ]
    },
    {
      "cell_type": "code",
      "source": [
        "sys = bst.main_flowsheet.create_system('sys')\n",
        "sys.show()"
      ],
      "metadata": {
        "colab": {
          "base_uri": "https://localhost:8080/"
        },
        "id": "4QXcG6ovOaPy",
        "outputId": "6790a33d-32d4-4042-c05a-da0748c06708"
      },
      "execution_count": null,
      "outputs": [
        {
          "output_type": "stream",
          "name": "stdout",
          "text": [
            "System: sys\n",
            "ins...\n",
            "[0] feed  \n",
            "    phase: 'l', T: 298.15 K, P: 101325 Pa\n",
            "    flow (kmol/hr): Water     450\n",
            "                    Methanol  100\n",
            "outs...\n",
            "[0] vapor_product  \n",
            "    phase: 'l', T: 298.15 K, P: 101325 Pa\n",
            "    flow: 0\n",
            "[1] liquid_product  \n",
            "    phase: 'l', T: 298.15 K, P: 101325 Pa\n",
            "    flow: 0\n"
          ]
        }
      ]
    },
    {
      "cell_type": "code",
      "source": [
        "# simulate the system then show the result\n",
        "sys.simulate()\n",
        "sys.show()"
      ],
      "metadata": {
        "colab": {
          "base_uri": "https://localhost:8080/"
        },
        "id": "70JkYQEZOaUU",
        "outputId": "135aa3f2-0212-4cd2-e140-7785e12bfc93"
      },
      "execution_count": null,
      "outputs": [
        {
          "output_type": "stream",
          "name": "stdout",
          "text": [
            "System: sys\n",
            "Highest convergence error among components in recycle\n",
            "stream S1-0 after 1 loops:\n",
            "- flow rate   1.58e-01 kmol/hr (0.22%)\n",
            "- temperature 1.34e-02 K (0.0037%)\n",
            "ins...\n",
            "[0] feed  \n",
            "    phase: 'l', T: 298.15 K, P: 101325 Pa\n",
            "    flow (kmol/hr): Water     450\n",
            "                    Methanol  100\n",
            "outs...\n",
            "[0] vapor_product  \n",
            "    phase: 'g', T: 359.27 K, P: 101325 Pa\n",
            "    flow (kmol/hr): Water     53.4\n",
            "                    Methanol  46.6\n",
            "[1] liquid_product  \n",
            "    phase: 'l', T: 359.27 K, P: 101325 Pa\n",
            "    flow (kmol/hr): Water     397\n",
            "                    Methanol  53.5\n"
          ]
        }
      ]
    },
    {
      "cell_type": "code",
      "source": [
        "sys.results()"
      ],
      "metadata": {
        "colab": {
          "base_uri": "https://localhost:8080/",
          "height": 300
        },
        "id": "6_TWCVvoSQbB",
        "outputId": "d3f3b1d5-3b94-47e5-f3c1-43aa79eeeb8c"
      },
      "execution_count": null,
      "outputs": [
        {
          "output_type": "execute_result",
          "data": {
            "text/plain": [
              "System                           Units      sys\n",
              "Low pressure steam       Duty    kJ/hr 6.75e+06\n",
              "                         Flow  kmol/hr      175\n",
              "                         Cost   USD/hr     34.9\n",
              "Total purchase cost                USD 3.87e+04\n",
              "Installed equipment cost           USD 1.15e+05\n",
              "Utility cost                    USD/hr     34.9\n",
              "Material cost                   USD/hr        0\n",
              "Sales                           USD/hr        0"
            ],
            "text/html": [
              "\n",
              "  <div id=\"df-55e90a8f-fa90-4b12-bf7b-67bf909df57d\" class=\"colab-df-container\">\n",
              "    <div>\n",
              "<style scoped>\n",
              "    .dataframe tbody tr th:only-of-type {\n",
              "        vertical-align: middle;\n",
              "    }\n",
              "\n",
              "    .dataframe tbody tr th {\n",
              "        vertical-align: top;\n",
              "    }\n",
              "\n",
              "    .dataframe thead th {\n",
              "        text-align: right;\n",
              "    }\n",
              "</style>\n",
              "<table border=\"1\" class=\"dataframe\">\n",
              "  <thead>\n",
              "    <tr style=\"text-align: right;\">\n",
              "      <th></th>\n",
              "      <th>System</th>\n",
              "      <th>Units</th>\n",
              "      <th>sys</th>\n",
              "    </tr>\n",
              "  </thead>\n",
              "  <tbody>\n",
              "    <tr>\n",
              "      <th rowspan=\"3\" valign=\"top\">Low pressure steam</th>\n",
              "      <th>Duty</th>\n",
              "      <td>kJ/hr</td>\n",
              "      <td>6.75e+06</td>\n",
              "    </tr>\n",
              "    <tr>\n",
              "      <th>Flow</th>\n",
              "      <td>kmol/hr</td>\n",
              "      <td>175</td>\n",
              "    </tr>\n",
              "    <tr>\n",
              "      <th>Cost</th>\n",
              "      <td>USD/hr</td>\n",
              "      <td>34.9</td>\n",
              "    </tr>\n",
              "    <tr>\n",
              "      <th>Total purchase cost</th>\n",
              "      <th></th>\n",
              "      <td>USD</td>\n",
              "      <td>3.87e+04</td>\n",
              "    </tr>\n",
              "    <tr>\n",
              "      <th>Installed equipment cost</th>\n",
              "      <th></th>\n",
              "      <td>USD</td>\n",
              "      <td>1.15e+05</td>\n",
              "    </tr>\n",
              "    <tr>\n",
              "      <th>Utility cost</th>\n",
              "      <th></th>\n",
              "      <td>USD/hr</td>\n",
              "      <td>34.9</td>\n",
              "    </tr>\n",
              "    <tr>\n",
              "      <th>Material cost</th>\n",
              "      <th></th>\n",
              "      <td>USD/hr</td>\n",
              "      <td>0</td>\n",
              "    </tr>\n",
              "    <tr>\n",
              "      <th>Sales</th>\n",
              "      <th></th>\n",
              "      <td>USD/hr</td>\n",
              "      <td>0</td>\n",
              "    </tr>\n",
              "  </tbody>\n",
              "</table>\n",
              "</div>\n",
              "    <div class=\"colab-df-buttons\">\n",
              "\n",
              "  <div class=\"colab-df-container\">\n",
              "    <button class=\"colab-df-convert\" onclick=\"convertToInteractive('df-55e90a8f-fa90-4b12-bf7b-67bf909df57d')\"\n",
              "            title=\"Convert this dataframe to an interactive table.\"\n",
              "            style=\"display:none;\">\n",
              "\n",
              "  <svg xmlns=\"http://www.w3.org/2000/svg\" height=\"24px\" viewBox=\"0 -960 960 960\">\n",
              "    <path d=\"M120-120v-720h720v720H120Zm60-500h600v-160H180v160Zm220 220h160v-160H400v160Zm0 220h160v-160H400v160ZM180-400h160v-160H180v160Zm440 0h160v-160H620v160ZM180-180h160v-160H180v160Zm440 0h160v-160H620v160Z\"/>\n",
              "  </svg>\n",
              "    </button>\n",
              "\n",
              "  <style>\n",
              "    .colab-df-container {\n",
              "      display:flex;\n",
              "      gap: 12px;\n",
              "    }\n",
              "\n",
              "    .colab-df-convert {\n",
              "      background-color: #E8F0FE;\n",
              "      border: none;\n",
              "      border-radius: 50%;\n",
              "      cursor: pointer;\n",
              "      display: none;\n",
              "      fill: #1967D2;\n",
              "      height: 32px;\n",
              "      padding: 0 0 0 0;\n",
              "      width: 32px;\n",
              "    }\n",
              "\n",
              "    .colab-df-convert:hover {\n",
              "      background-color: #E2EBFA;\n",
              "      box-shadow: 0px 1px 2px rgba(60, 64, 67, 0.3), 0px 1px 3px 1px rgba(60, 64, 67, 0.15);\n",
              "      fill: #174EA6;\n",
              "    }\n",
              "\n",
              "    .colab-df-buttons div {\n",
              "      margin-bottom: 4px;\n",
              "    }\n",
              "\n",
              "    [theme=dark] .colab-df-convert {\n",
              "      background-color: #3B4455;\n",
              "      fill: #D2E3FC;\n",
              "    }\n",
              "\n",
              "    [theme=dark] .colab-df-convert:hover {\n",
              "      background-color: #434B5C;\n",
              "      box-shadow: 0px 1px 3px 1px rgba(0, 0, 0, 0.15);\n",
              "      filter: drop-shadow(0px 1px 2px rgba(0, 0, 0, 0.3));\n",
              "      fill: #FFFFFF;\n",
              "    }\n",
              "  </style>\n",
              "\n",
              "    <script>\n",
              "      const buttonEl =\n",
              "        document.querySelector('#df-55e90a8f-fa90-4b12-bf7b-67bf909df57d button.colab-df-convert');\n",
              "      buttonEl.style.display =\n",
              "        google.colab.kernel.accessAllowed ? 'block' : 'none';\n",
              "\n",
              "      async function convertToInteractive(key) {\n",
              "        const element = document.querySelector('#df-55e90a8f-fa90-4b12-bf7b-67bf909df57d');\n",
              "        const dataTable =\n",
              "          await google.colab.kernel.invokeFunction('convertToInteractive',\n",
              "                                                    [key], {});\n",
              "        if (!dataTable) return;\n",
              "\n",
              "        const docLinkHtml = 'Like what you see? Visit the ' +\n",
              "          '<a target=\"_blank\" href=https://colab.research.google.com/notebooks/data_table.ipynb>data table notebook</a>'\n",
              "          + ' to learn more about interactive tables.';\n",
              "        element.innerHTML = '';\n",
              "        dataTable['output_type'] = 'display_data';\n",
              "        await google.colab.output.renderOutput(dataTable, element);\n",
              "        const docLink = document.createElement('div');\n",
              "        docLink.innerHTML = docLinkHtml;\n",
              "        element.appendChild(docLink);\n",
              "      }\n",
              "    </script>\n",
              "  </div>\n",
              "\n",
              "\n",
              "<div id=\"df-9f7fb156-42ae-431c-8b2b-ad6c6ebfef35\">\n",
              "  <button class=\"colab-df-quickchart\" onclick=\"quickchart('df-9f7fb156-42ae-431c-8b2b-ad6c6ebfef35')\"\n",
              "            title=\"Suggest charts\"\n",
              "            style=\"display:none;\">\n",
              "\n",
              "<svg xmlns=\"http://www.w3.org/2000/svg\" height=\"24px\"viewBox=\"0 0 24 24\"\n",
              "     width=\"24px\">\n",
              "    <g>\n",
              "        <path d=\"M19 3H5c-1.1 0-2 .9-2 2v14c0 1.1.9 2 2 2h14c1.1 0 2-.9 2-2V5c0-1.1-.9-2-2-2zM9 17H7v-7h2v7zm4 0h-2V7h2v10zm4 0h-2v-4h2v4z\"/>\n",
              "    </g>\n",
              "</svg>\n",
              "  </button>\n",
              "\n",
              "<style>\n",
              "  .colab-df-quickchart {\n",
              "      --bg-color: #E8F0FE;\n",
              "      --fill-color: #1967D2;\n",
              "      --hover-bg-color: #E2EBFA;\n",
              "      --hover-fill-color: #174EA6;\n",
              "      --disabled-fill-color: #AAA;\n",
              "      --disabled-bg-color: #DDD;\n",
              "  }\n",
              "\n",
              "  [theme=dark] .colab-df-quickchart {\n",
              "      --bg-color: #3B4455;\n",
              "      --fill-color: #D2E3FC;\n",
              "      --hover-bg-color: #434B5C;\n",
              "      --hover-fill-color: #FFFFFF;\n",
              "      --disabled-bg-color: #3B4455;\n",
              "      --disabled-fill-color: #666;\n",
              "  }\n",
              "\n",
              "  .colab-df-quickchart {\n",
              "    background-color: var(--bg-color);\n",
              "    border: none;\n",
              "    border-radius: 50%;\n",
              "    cursor: pointer;\n",
              "    display: none;\n",
              "    fill: var(--fill-color);\n",
              "    height: 32px;\n",
              "    padding: 0;\n",
              "    width: 32px;\n",
              "  }\n",
              "\n",
              "  .colab-df-quickchart:hover {\n",
              "    background-color: var(--hover-bg-color);\n",
              "    box-shadow: 0 1px 2px rgba(60, 64, 67, 0.3), 0 1px 3px 1px rgba(60, 64, 67, 0.15);\n",
              "    fill: var(--button-hover-fill-color);\n",
              "  }\n",
              "\n",
              "  .colab-df-quickchart-complete:disabled,\n",
              "  .colab-df-quickchart-complete:disabled:hover {\n",
              "    background-color: var(--disabled-bg-color);\n",
              "    fill: var(--disabled-fill-color);\n",
              "    box-shadow: none;\n",
              "  }\n",
              "\n",
              "  .colab-df-spinner {\n",
              "    border: 2px solid var(--fill-color);\n",
              "    border-color: transparent;\n",
              "    border-bottom-color: var(--fill-color);\n",
              "    animation:\n",
              "      spin 1s steps(1) infinite;\n",
              "  }\n",
              "\n",
              "  @keyframes spin {\n",
              "    0% {\n",
              "      border-color: transparent;\n",
              "      border-bottom-color: var(--fill-color);\n",
              "      border-left-color: var(--fill-color);\n",
              "    }\n",
              "    20% {\n",
              "      border-color: transparent;\n",
              "      border-left-color: var(--fill-color);\n",
              "      border-top-color: var(--fill-color);\n",
              "    }\n",
              "    30% {\n",
              "      border-color: transparent;\n",
              "      border-left-color: var(--fill-color);\n",
              "      border-top-color: var(--fill-color);\n",
              "      border-right-color: var(--fill-color);\n",
              "    }\n",
              "    40% {\n",
              "      border-color: transparent;\n",
              "      border-right-color: var(--fill-color);\n",
              "      border-top-color: var(--fill-color);\n",
              "    }\n",
              "    60% {\n",
              "      border-color: transparent;\n",
              "      border-right-color: var(--fill-color);\n",
              "    }\n",
              "    80% {\n",
              "      border-color: transparent;\n",
              "      border-right-color: var(--fill-color);\n",
              "      border-bottom-color: var(--fill-color);\n",
              "    }\n",
              "    90% {\n",
              "      border-color: transparent;\n",
              "      border-bottom-color: var(--fill-color);\n",
              "    }\n",
              "  }\n",
              "</style>\n",
              "\n",
              "  <script>\n",
              "    async function quickchart(key) {\n",
              "      const quickchartButtonEl =\n",
              "        document.querySelector('#' + key + ' button');\n",
              "      quickchartButtonEl.disabled = true;  // To prevent multiple clicks.\n",
              "      quickchartButtonEl.classList.add('colab-df-spinner');\n",
              "      try {\n",
              "        const charts = await google.colab.kernel.invokeFunction(\n",
              "            'suggestCharts', [key], {});\n",
              "      } catch (error) {\n",
              "        console.error('Error during call to suggestCharts:', error);\n",
              "      }\n",
              "      quickchartButtonEl.classList.remove('colab-df-spinner');\n",
              "      quickchartButtonEl.classList.add('colab-df-quickchart-complete');\n",
              "    }\n",
              "    (() => {\n",
              "      let quickchartButtonEl =\n",
              "        document.querySelector('#df-9f7fb156-42ae-431c-8b2b-ad6c6ebfef35 button');\n",
              "      quickchartButtonEl.style.display =\n",
              "        google.colab.kernel.accessAllowed ? 'block' : 'none';\n",
              "    })();\n",
              "  </script>\n",
              "</div>\n",
              "\n",
              "    </div>\n",
              "  </div>\n"
            ],
            "application/vnd.google.colaboratory.intrinsic+json": {
              "type": "dataframe",
              "summary": "{\n  \"name\": \"sys\",\n  \"rows\": 8,\n  \"fields\": [\n    {\n      \"column\": \"Units\",\n      \"properties\": {\n        \"dtype\": \"string\",\n        \"num_unique_values\": 4,\n        \"samples\": [\n          \"kmol/hr\",\n          \"USD\",\n          \"kJ/hr\"\n        ],\n        \"semantic_type\": \"\",\n        \"description\": \"\"\n      }\n    },\n    {\n      \"column\": \"sys\",\n      \"properties\": {\n        \"dtype\": \"number\",\n        \"std\": 2380599.1013871953,\n        \"min\": 0.0,\n        \"max\": 6754326.313185002,\n        \"num_unique_values\": 6,\n        \"samples\": [\n          6754326.313185002,\n          174.61356438206238,\n          0.0\n        ],\n        \"semantic_type\": \"\",\n        \"description\": \"\"\n      }\n    }\n  ]\n}"
            }
          },
          "metadata": {},
          "execution_count": 24
        }
      ]
    },
    {
      "cell_type": "code",
      "source": [],
      "metadata": {
        "id": "TdltV_stSQjK"
      },
      "execution_count": null,
      "outputs": []
    },
    {
      "cell_type": "markdown",
      "source": [
        "# Creating a Unit"
      ],
      "metadata": {
        "id": "4AEB9s9bSQp-"
      }
    },
    {
      "cell_type": "code",
      "source": [
        "# All units are created by passing a name and both inlet and outlet streams\n",
        "\n",
        "from biosteam import Unit, Stream, settings, main_flowsheet\n",
        "import biosteam as bst\n",
        "bst.nbtutorial() # light-mode html diagra,s amd filter warnings\n",
        "\n",
        "settings.set_thermo(['Water'])\n",
        "ins = Stream('in0')\n",
        "outs = Stream('out0')\n",
        "U1 = Unit('U1', ins, outs)\n",
        "U1.show(data=False)\n",
        "U1.diagram()"
      ],
      "metadata": {
        "colab": {
          "base_uri": "https://localhost:8080/",
          "height": 337
        },
        "id": "gWcPFIMZSQv8",
        "outputId": "3d20115f-2a87-4d98-f692-6f731bb097db"
      },
      "execution_count": null,
      "outputs": [
        {
          "output_type": "stream",
          "name": "stdout",
          "text": [
            "Unit: U1\n",
            "ins...\n",
            "[0] in0  \n",
            "outs...\n",
            "[0] out0  \n"
          ]
        },
        {
          "output_type": "display_data",
          "data": {
            "text/plain": [
              "<IPython.lib.display.IFrame at 0x7b087f217850>"
            ],
            "text/html": [
              "\n",
              "        <iframe\n",
              "            width=\"100%\"\n",
              "            height=\"225px\"\n",
              "            src=\"data:text/html;charset=utf-8,%3C%21DOCTYPE%20html%3E%3Chtml%3E%3Chead%3E%3Clink%20rel%3D%22stylesheet%22%20href%3D%22https%3A//unpkg.com/tippy.js%406.3.7/themes/translucent.css%22%3E%3Clink%20rel%3D%22stylesheet%22%20href%3D%22https%3A//rawcdn.githack.com/BioSTEAMDevelopmentGroup/biosteam/e065aca079c216d72b75949bbcbb74a3bbddb75d/biosteam/digraph/digraph.css%22%3E%3Cscript%20src%3D%22https%3A//unpkg.com/%40popperjs/core%402%22%3E%3C/script%3E%3Cscript%20src%3D%22https%3A//unpkg.com/tippy.js%406%22%3E%3C/script%3E%3Cscript%20src%3D%22https%3A//rawcdn.githack.com/BioSTEAMDevelopmentGroup/biosteam/e065aca079c216d72b75949bbcbb74a3bbddb75d/biosteam/digraph/digraph.js%22%3E%3C/script%3E%3C/head%3E%3Cbody%3E%3Csvg%20width%3D%22158pt%22%20height%3D%2251pt%22%20viewBox%3D%220.00%200.00%20158.00%2051.00%22%3E%0A%3Cg%20id%3D%22graph0%22%20class%3D%22graph%22%20transform%3D%22scale%281%201%29%20rotate%280%29%20translate%284%2047%29%22%3E%0A%3Cpolygon%20fill%3D%22%23ffffff%22%20fill-opacity%3D%220.666667%22%20stroke%3D%22transparent%22%20points%3D%22-4%2C4%20-4%2C-47%20154%2C-47%20154%2C4%20-4%2C4%22%3E%3C/polygon%3E%0A%0A%3Cg%20id%3D%22edge2%22%20class%3D%22edge%22%20data-tippy-content%3D%22%28empty%29%22%3E%0A%3Cpath%20fill%3D%22none%22%20stroke%3D%22%234e4e4e%22%20stroke-dasharray%3D%225%2C2%22%20d%3D%22M92.03%2C-21.5C105.75%2C-21.5%20124.21%2C-21.5%20140.5%2C-21.5%22%3E%3C/path%3E%0A%3Cg%20id%3D%22a_edge2-label%22%3E%3Ca%20title%3D%22%28empty%29%22%3E%0A%3Ctext%20text-anchor%3D%22middle%22%20x%3D%22115.5%22%20y%3D%22-25.3%22%20font-family%3D%22Arial%22%20font-size%3D%2214.00%22%20fill%3D%22%234e4e4e%22%3E%20out0%3C/text%3E%0A%3C/a%3E%0A%3C/g%3E%0A%3C/g%3E%0A%0A%3Cg%20id%3D%22edge1%22%20class%3D%22edge%22%20data-tippy-content%3D%22%28empty%29%22%3E%0A%3Cpath%20fill%3D%22none%22%20stroke%3D%22%234e4e4e%22%20stroke-dasharray%3D%225%2C2%22%20d%3D%22M11%2C-21.5C23.59%2C-21.5%2037.71%2C-21.5%2048.92%2C-21.5%22%3E%3C/path%3E%0A%3Cg%20id%3D%22a_edge1-label%22%3E%3Ca%20title%3D%22%28empty%29%22%3E%0A%3Ctext%20text-anchor%3D%22middle%22%20x%3D%2230%22%20y%3D%22-25.3%22%20font-family%3D%22Arial%22%20font-size%3D%2214.00%22%20fill%3D%22%234e4e4e%22%3E%20in0%3C/text%3E%0A%3C/a%3E%0A%3C/g%3E%0A%3C/g%3E%0A%0A%3Cg%20id%3D%22node1%22%20class%3D%22node%22%20data-tippy-content%3D%22No%20capital%20costs%20or%20utilities%22%3E%0A%3Cg%20id%3D%22a_node1%22%3E%3Ca%20title%3D%22%20No%20capital%20costs%20or%20utilities%22%3E%0A%3Cdefs%3E%0A%3ClinearGradient%20id%3D%22l_0%22%20gradientUnits%3D%22userSpaceOnUse%22%20x1%3D%2249%22%20y1%3D%22-21.5%22%20x2%3D%2292%22%20y2%3D%22-21.5%22%3E%0A%3Cstop%20offset%3D%220%22%20style%3D%22stop-color%3Awhite%3Bstop-opacity%3A1.%3B%22%3E%3C/stop%3E%0A%3Cstop%20offset%3D%221%22%20style%3D%22stop-color%3A%23cdcdcd%3Bstop-opacity%3A1.%3B%22%3E%3C/stop%3E%0A%3C/linearGradient%3E%0A%3C/defs%3E%0A%3Cpolygon%20fill%3D%22url%28%23l_0%29%22%20stroke%3D%22%234e4e4e%22%20points%3D%2292%2C-43%2049%2C-43%2049%2C0%2092%2C0%2092%2C-43%22%3E%3C/polygon%3E%0A%3Ctext%20text-anchor%3D%22middle%22%20x%3D%2270.5%22%20y%3D%22-25.3%22%20font-family%3D%22Arial%22%20font-size%3D%2214.00%22%3EU1%3C/text%3E%0A%3Ctext%20text-anchor%3D%22middle%22%20x%3D%2270.5%22%20y%3D%22-10.3%22%20font-family%3D%22Arial%22%20font-size%3D%2214.00%22%3EUnit%3C/text%3E%0A%3C/a%3E%0A%3C/g%3E%0A%3C/g%3E%0A%0A%3Cg%20id%3D%22node2%22%20class%3D%22node%22%20data-tippy-content%3D%228454776058220%22%3E%0A%3Cpolygon%20fill%3D%22%23f98f60%22%20stroke%3D%22%234e4e4e%22%20points%3D%225.5%2C-27%200%2C-21.5%205.5%2C-16%2011%2C-21.5%205.5%2C-27%22%3E%3C/polygon%3E%0A%3C/g%3E%0A%0A%3Cg%20id%3D%22node3%22%20class%3D%22node%22%20data-tippy-content%3D%228454776058196%22%3E%0A%3Cpolygon%20fill%3D%22%23f98f60%22%20stroke%3D%22%234e4e4e%22%20points%3D%22150%2C-21.5%20141.75%2C-28.5%20141.75%2C-14.5%20150%2C-21.5%22%3E%3C/polygon%3E%0A%3C/g%3E%0A%3C/g%3E%0A%3C/svg%3E%3C/body%3E%3C/html%3E\"\n",
              "            frameborder=\"0\"\n",
              "            allowfullscreen\n",
              "            allowtransparency=\"true\"\n",
              "        ></iframe>\n",
              "        "
            ]
          },
          "metadata": {}
        }
      ]
    },
    {
      "cell_type": "code",
      "source": [
        "from biosteam import Mixer, Splitter\n",
        "\n",
        "feed1 = bst.Stream('feed1')\n",
        "M1 = Mixer('M1', outs='s1')\n",
        "S1 = Splitter('S1', outs=('s2', 'product1'), split=0.5)\n",
        "\n",
        "feed2 = bst.Stream('feed2')\n",
        "M2 = Mixer('M2', outs='s3')\n",
        "S2 = Splitter('S2', outs=('recycle', 'product2'), split=0.5)\n",
        "\n",
        "bst.main_flowsheet.diagram()"
      ],
      "metadata": {
        "colab": {
          "base_uri": "https://localhost:8080/",
          "height": 421
        },
        "id": "Ap8tzIxmSQ2D",
        "outputId": "9265831e-faa2-40ee-c686-08a3c7afce18"
      },
      "execution_count": null,
      "outputs": [
        {
          "output_type": "display_data",
          "data": {
            "text/plain": [
              "<IPython.lib.display.IFrame at 0x7b087f24cd30>"
            ],
            "text/html": [
              "\n",
              "        <iframe\n",
              "            width=\"100%\"\n",
              "            height=\"400px\"\n",
              "            src=\"data:text/html;charset=utf-8,%3C%21DOCTYPE%20html%3E%3Chtml%3E%3Chead%3E%3Clink%20rel%3D%22stylesheet%22%20href%3D%22https%3A//unpkg.com/tippy.js%406.3.7/themes/translucent.css%22%3E%3Clink%20rel%3D%22stylesheet%22%20href%3D%22https%3A//rawcdn.githack.com/BioSTEAMDevelopmentGroup/biosteam/e065aca079c216d72b75949bbcbb74a3bbddb75d/biosteam/digraph/digraph.css%22%3E%3Cscript%20src%3D%22https%3A//unpkg.com/%40popperjs/core%402%22%3E%3C/script%3E%3Cscript%20src%3D%22https%3A//unpkg.com/tippy.js%406%22%3E%3C/script%3E%3Cscript%20src%3D%22https%3A//rawcdn.githack.com/BioSTEAMDevelopmentGroup/biosteam/e065aca079c216d72b75949bbcbb74a3bbddb75d/biosteam/digraph/digraph.js%22%3E%3C/script%3E%3C/head%3E%3Cbody%3E%3Csvg%20width%3D%22308pt%22%20height%3D%22623pt%22%20viewBox%3D%220.00%200.00%20307.88%20623.24%22%3E%0A%3Cg%20id%3D%22graph0%22%20class%3D%22graph%22%20transform%3D%22scale%281%201%29%20rotate%280%29%20translate%284%20619.24%29%22%3E%0A%3Cpolygon%20fill%3D%22%23ffffff%22%20fill-opacity%3D%220.666667%22%20stroke%3D%22transparent%22%20points%3D%22-4%2C4%20-4%2C-619.24%20303.88%2C-619.24%20303.88%2C4%20-4%2C4%22%3E%3C/polygon%3E%0A%0A%3Cg%20id%3D%22edge2%22%20class%3D%22edge%22%20data-tippy-content%3D%22%28empty%29%22%3E%0A%3Cpath%20fill%3D%22none%22%20stroke%3D%22%234e4e4e%22%20stroke-dasharray%3D%225%2C2%22%20d%3D%22M154%2C-21.5C183.99%2C-21.5%20241.47%2C-21.5%20290.38%2C-21.5%22%3E%3C/path%3E%0A%3Cg%20id%3D%22a_edge2-label%22%3E%3Ca%20title%3D%22%28empty%29%22%3E%0A%3Ctext%20text-anchor%3D%22middle%22%20x%3D%22252.38%22%20y%3D%22-25.3%22%20font-family%3D%22Arial%22%20font-size%3D%2214.00%22%20fill%3D%22%234e4e4e%22%3E%20out0%3C/text%3E%0A%3C/a%3E%0A%3C/g%3E%0A%3C/g%3E%0A%0A%3Cg%20id%3D%22edge4%22%20class%3D%22edge%22%20data-tippy-content%3D%22%28empty%29%22%3E%0A%3Cpath%20fill%3D%22none%22%20stroke%3D%22%234e4e4e%22%20stroke-dasharray%3D%225%2C2%22%20d%3D%22M204.44%2C-132.5C242.63%2C-132.5%20252.18%2C-132.5%20290.38%2C-132.5%22%3E%3C/path%3E%0A%3Cg%20id%3D%22a_edge4-label%22%3E%3Ca%20title%3D%22%28empty%29%22%3E%0A%3Ctext%20text-anchor%3D%22middle%22%20x%3D%22252.38%22%20y%3D%22-136.3%22%20font-family%3D%22Arial%22%20font-size%3D%2214.00%22%20fill%3D%22%234e4e4e%22%3E%20s1%3C/text%3E%0A%3C/a%3E%0A%3C/g%3E%0A%3C/g%3E%0A%0A%3Cg%20id%3D%22edge6%22%20class%3D%22edge%22%20data-tippy-content%3D%22%28empty%29%22%3E%0A%3Cpath%20fill%3D%22none%22%20stroke%3D%22%234e4e4e%22%20stroke-dasharray%3D%225%2C2%22%20d%3D%22M174.39%2C-286.89C205.85%2C-294.64%20250.52%2C-303.5%20290.38%2C-303.5%22%3E%3C/path%3E%0A%3Cg%20id%3D%22a_edge6-label%22%3E%3Ca%20title%3D%22%28empty%29%22%3E%0A%3Ctext%20text-anchor%3D%22middle%22%20x%3D%22252.38%22%20y%3D%22-307.3%22%20font-family%3D%22Arial%22%20font-size%3D%2214.00%22%20fill%3D%22%234e4e4e%22%3E%20s2%3C/text%3E%0A%3C/a%3E%0A%3C/g%3E%0A%3C/g%3E%0A%0A%3Cg%20id%3D%22edge13%22%20class%3D%22edge%22%20data-tippy-content%3D%22%28empty%29%22%3E%0A%3Cpath%20fill%3D%22none%22%20stroke%3D%22%234e4e4e%22%20stroke-dasharray%3D%225%2C2%22%20d%3D%22M174.39%2C-264.11C205.85%2C-256.36%20250.52%2C-247.5%20290.38%2C-247.5%22%3E%3C/path%3E%0A%3Cg%20id%3D%22a_edge13-label%22%3E%3Ca%20title%3D%22%28empty%29%22%3E%0A%3Ctext%20text-anchor%3D%22middle%22%20x%3D%22252.38%22%20y%3D%22-258.3%22%20font-family%3D%22Arial%22%20font-size%3D%2214.00%22%20fill%3D%22%234e4e4e%22%3E%20product1%3C/text%3E%0A%3C/a%3E%0A%3C/g%3E%0A%3C/g%3E%0A%0A%3Cg%20id%3D%22edge8%22%20class%3D%22edge%22%20data-tippy-content%3D%22%28empty%29%22%3E%0A%3Cpath%20fill%3D%22none%22%20stroke%3D%22%234e4e4e%22%20stroke-dasharray%3D%225%2C2%22%20d%3D%22M204.44%2C-418.5C242.63%2C-418.5%20252.18%2C-418.5%20290.38%2C-418.5%22%3E%3C/path%3E%0A%3Cg%20id%3D%22a_edge8-label%22%3E%3Ca%20title%3D%22%28empty%29%22%3E%0A%3Ctext%20text-anchor%3D%22middle%22%20x%3D%22252.38%22%20y%3D%22-422.3%22%20font-family%3D%22Arial%22%20font-size%3D%2214.00%22%20fill%3D%22%234e4e4e%22%3E%20s3%3C/text%3E%0A%3C/a%3E%0A%3C/g%3E%0A%3C/g%3E%0A%0A%3Cg%20id%3D%22edge10%22%20class%3D%22edge%22%20data-tippy-content%3D%22%28empty%29%22%3E%0A%3Cpath%20fill%3D%22none%22%20stroke%3D%22%234e4e4e%22%20stroke-dasharray%3D%225%2C2%22%20d%3D%22M174.39%2C-572.89C205.85%2C-580.64%20250.52%2C-589.5%20290.38%2C-589.5%22%3E%3C/path%3E%0A%3Cg%20id%3D%22a_edge10-label%22%3E%3Ca%20title%3D%22%28empty%29%22%3E%0A%3Ctext%20text-anchor%3D%22middle%22%20x%3D%22252.38%22%20y%3D%22-592.3%22%20font-family%3D%22Arial%22%20font-size%3D%2214.00%22%20fill%3D%22%234e4e4e%22%3E%20recycle%3C/text%3E%0A%3C/a%3E%0A%3C/g%3E%0A%3C/g%3E%0A%0A%3Cg%20id%3D%22edge14%22%20class%3D%22edge%22%20data-tippy-content%3D%22%28empty%29%22%3E%0A%3Cpath%20fill%3D%22none%22%20stroke%3D%22%234e4e4e%22%20stroke-dasharray%3D%225%2C2%22%20d%3D%22M174.39%2C-550.11C205.85%2C-542.36%20250.52%2C-533.5%20290.38%2C-533.5%22%3E%3C/path%3E%0A%3Cg%20id%3D%22a_edge14-label%22%3E%3Ca%20title%3D%22%28empty%29%22%3E%0A%3Ctext%20text-anchor%3D%22middle%22%20x%3D%22252.38%22%20y%3D%22-543.3%22%20font-family%3D%22Arial%22%20font-size%3D%2214.00%22%20fill%3D%22%234e4e4e%22%3E%20product2%3C/text%3E%0A%3C/a%3E%0A%3C/g%3E%0A%3C/g%3E%0A%0A%3Cg%20id%3D%22edge1%22%20class%3D%22edge%22%20data-tippy-content%3D%22%28empty%29%22%3E%0A%3Cpath%20fill%3D%22none%22%20stroke%3D%22%234e4e4e%22%20stroke-dasharray%3D%225%2C2%22%20d%3D%22M11%2C-21.5C45.92%2C-21.5%2086.53%2C-21.5%20110.55%2C-21.5%22%3E%3C/path%3E%0A%3Cg%20id%3D%22a_edge1-label%22%3E%3Ca%20title%3D%22%28empty%29%22%3E%0A%3Ctext%20text-anchor%3D%22middle%22%20x%3D%2230%22%20y%3D%22-25.3%22%20font-family%3D%22Arial%22%20font-size%3D%2214.00%22%20fill%3D%22%234e4e4e%22%3E%20in0%3C/text%3E%0A%3C/a%3E%0A%3C/g%3E%0A%3C/g%3E%0A%0A%3Cg%20id%3D%22edge3%22%20class%3D%22edge%22%20data-tippy-content%3D%228454776058772%3Ae-%26gt%3B8454776553857%3Ac%22%3E%0A%3Cpath%20fill%3D%22none%22%20stroke%3D%22%234e4e4e%22%20stroke-dasharray%3D%225%2C2%22%20d%3D%22M11%2C-155.5C40.27%2C-155.5%2072.84%2C-148.86%2096.73%2C-142.72%22%3E%3C/path%3E%0A%3C/g%3E%0A%0A%3Cg%20id%3D%22edge5%22%20class%3D%22edge%22%20data-tippy-content%3D%228454776057992%3Ae-%26gt%3B8454776554424%3Aw%22%3E%0A%3Cpath%20fill%3D%22none%22%20stroke%3D%22%234e4e4e%22%20stroke-dasharray%3D%225%2C2%22%20d%3D%22M11%2C-275.5C27.89%2C-275.5%2032.11%2C-275.5%2049%2C-275.5%22%3E%3C/path%3E%0A%3C/g%3E%0A%0A%3Cg%20id%3D%22edge7%22%20class%3D%22edge%22%20data-tippy-content%3D%228454776058628%3Ae-%26gt%3B8454776553806%3Ac%22%3E%0A%3Cpath%20fill%3D%22none%22%20stroke%3D%22%234e4e4e%22%20stroke-dasharray%3D%225%2C2%22%20d%3D%22M11%2C-441.5C40.27%2C-441.5%2072.84%2C-434.86%2096.73%2C-428.72%22%3E%3C/path%3E%0A%3C/g%3E%0A%0A%3Cg%20id%3D%22edge9%22%20class%3D%22edge%22%20data-tippy-content%3D%228454776058580%3Ae-%26gt%3B8454776553479%3Aw%22%3E%0A%3Cpath%20fill%3D%22none%22%20stroke%3D%22%234e4e4e%22%20stroke-dasharray%3D%225%2C2%22%20d%3D%22M11%2C-561.5C27.89%2C-561.5%2032.11%2C-561.5%2049%2C-561.5%22%3E%3C/path%3E%0A%3C/g%3E%0A%0A%3Cg%20id%3D%22edge11%22%20class%3D%22edge%22%20data-tippy-content%3D%228454776058244%3Ae-%26gt%3B8454776553857%3Ac%22%3E%0A%3Cpath%20fill%3D%22none%22%20stroke%3D%22%234e4e4e%22%20stroke-dasharray%3D%225%2C2%22%20d%3D%22M11%2C-108.5C40.32%2C-108.5%2072.88%2C-115.42%2096.76%2C-121.83%22%3E%3C/path%3E%0A%3C/g%3E%0A%0A%3Cg%20id%3D%22edge12%22%20class%3D%22edge%22%20data-tippy-content%3D%228454776058616%3Ae-%26gt%3B8454776553806%3Ac%22%3E%0A%3Cpath%20fill%3D%22none%22%20stroke%3D%22%234e4e4e%22%20stroke-dasharray%3D%225%2C2%22%20d%3D%22M11%2C-394.5C40.32%2C-394.5%2072.88%2C-401.42%2096.76%2C-407.83%22%3E%3C/path%3E%0A%3C/g%3E%0A%0A%3Cg%20id%3D%22node1%22%20class%3D%22node%22%20data-tippy-content%3D%22No%20capital%20costs%20or%20utilities%22%3E%0A%3Cg%20id%3D%22a_node1%22%3E%3Ca%20title%3D%22%20No%20capital%20costs%20or%20utilities%22%3E%0A%3Cdefs%3E%0A%3ClinearGradient%20id%3D%22l_0%22%20gradientUnits%3D%22userSpaceOnUse%22%20x1%3D%22110.94%22%20y1%3D%22-21.5%22%20x2%3D%22153.94%22%20y2%3D%22-21.5%22%3E%0A%3Cstop%20offset%3D%220%22%20style%3D%22stop-color%3Awhite%3Bstop-opacity%3A1.%3B%22%3E%3C/stop%3E%0A%3Cstop%20offset%3D%221%22%20style%3D%22stop-color%3A%23cdcdcd%3Bstop-opacity%3A1.%3B%22%3E%3C/stop%3E%0A%3C/linearGradient%3E%0A%3C/defs%3E%0A%3Cpolygon%20fill%3D%22url%28%23l_0%29%22%20stroke%3D%22%234e4e4e%22%20points%3D%22153.94%2C-43%20110.94%2C-43%20110.94%2C0%20153.94%2C0%20153.94%2C-43%22%3E%3C/polygon%3E%0A%3Ctext%20text-anchor%3D%22middle%22%20x%3D%22132.44%22%20y%3D%22-25.3%22%20font-family%3D%22Arial%22%20font-size%3D%2214.00%22%3EU1%3C/text%3E%0A%3Ctext%20text-anchor%3D%22middle%22%20x%3D%22132.44%22%20y%3D%22-10.3%22%20font-family%3D%22Arial%22%20font-size%3D%2214.00%22%3EUnit%3C/text%3E%0A%3C/a%3E%0A%3C/g%3E%0A%3C/g%3E%0A%0A%3Cg%20id%3D%22node2%22%20class%3D%22node%22%20data-tippy-content%3D%22No%20capital%20costs%20or%20utilities%22%3E%0A%3Cg%20id%3D%22a_node2%22%3E%3Ca%20title%3D%22%20No%20capital%20costs%20or%20utilities%22%3E%0A%3Cdefs%3E%0A%3ClinearGradient%20id%3D%22l_1%22%20gradientUnits%3D%22userSpaceOnUse%22%20x1%3D%2296.98%22%20y1%3D%22-132.5%22%20x2%3D%22203.36%22%20y2%3D%22-132.5%22%3E%0A%3Cstop%20offset%3D%220%22%20style%3D%22stop-color%3Awhite%3Bstop-opacity%3A1.%3B%22%3E%3C/stop%3E%0A%3Cstop%20offset%3D%221%22%20style%3D%22stop-color%3A%23cdcdcd%3Bstop-opacity%3A1.%3B%22%3E%3C/stop%3E%0A%3C/linearGradient%3E%0A%3C/defs%3E%0A%3Cpolygon%20fill%3D%22url%28%23l_1%29%22%20stroke%3D%22%234e4e4e%22%20points%3D%22203.36%2C-132.5%2096.98%2C-186.48%2096.98%2C-78.52%20203.36%2C-132.5%22%3E%3C/polygon%3E%0A%3Ctext%20text-anchor%3D%22middle%22%20x%3D%22132.44%22%20y%3D%22-136.3%22%20font-family%3D%22Arial%22%20font-size%3D%2214.00%22%3EM1%3C/text%3E%0A%3Ctext%20text-anchor%3D%22middle%22%20x%3D%22132.44%22%20y%3D%22-121.3%22%20font-family%3D%22Arial%22%20font-size%3D%2214.00%22%3EMixer%3C/text%3E%0A%3C/a%3E%0A%3C/g%3E%0A%3C/g%3E%0A%0A%3Cg%20id%3D%22node3%22%20class%3D%22node%22%20data-tippy-content%3D%22No%20capital%20costs%20or%20utilities%22%3E%0A%3Cg%20id%3D%22a_node3%22%3E%3Ca%20title%3D%22%20No%20capital%20costs%20or%20utilities%22%3E%0A%3Cdefs%3E%0A%3ClinearGradient%20id%3D%22l_2%22%20gradientUnits%3D%22userSpaceOnUse%22%20x1%3D%2249.06%22%20y1%3D%22-275.5%22%20x2%3D%22174.13%22%20y2%3D%22-275.5%22%3E%0A%3Cstop%20offset%3D%220%22%20style%3D%22stop-color%3Awhite%3Bstop-opacity%3A1.%3B%22%3E%3C/stop%3E%0A%3Cstop%20offset%3D%221%22%20style%3D%22stop-color%3A%23cdcdcd%3Bstop-opacity%3A1.%3B%22%3E%3C/stop%3E%0A%3C/linearGradient%3E%0A%3C/defs%3E%0A%3Cpolygon%20fill%3D%22url%28%23l_2%29%22%20stroke%3D%22%234e4e4e%22%20points%3D%2249.06%2C-275.5%20174.13%2C-221.52%20174.13%2C-329.48%2049.06%2C-275.5%22%3E%3C/polygon%3E%0A%3Ctext%20text-anchor%3D%22middle%22%20x%3D%22132.44%22%20y%3D%22-279.3%22%20font-family%3D%22Arial%22%20font-size%3D%2214.00%22%3ES1%3C/text%3E%0A%3Ctext%20text-anchor%3D%22middle%22%20x%3D%22132.44%22%20y%3D%22-264.3%22%20font-family%3D%22Arial%22%20font-size%3D%2214.00%22%3ESplitter%3C/text%3E%0A%3C/a%3E%0A%3C/g%3E%0A%3C/g%3E%0A%0A%3Cg%20id%3D%22node4%22%20class%3D%22node%22%20data-tippy-content%3D%22No%20capital%20costs%20or%20utilities%22%3E%0A%3Cg%20id%3D%22a_node4%22%3E%3Ca%20title%3D%22%20No%20capital%20costs%20or%20utilities%22%3E%0A%3Cdefs%3E%0A%3ClinearGradient%20id%3D%22l_3%22%20gradientUnits%3D%22userSpaceOnUse%22%20x1%3D%2296.98%22%20y1%3D%22-418.5%22%20x2%3D%22203.36%22%20y2%3D%22-418.5%22%3E%0A%3Cstop%20offset%3D%220%22%20style%3D%22stop-color%3Awhite%3Bstop-opacity%3A1.%3B%22%3E%3C/stop%3E%0A%3Cstop%20offset%3D%221%22%20style%3D%22stop-color%3A%23cdcdcd%3Bstop-opacity%3A1.%3B%22%3E%3C/stop%3E%0A%3C/linearGradient%3E%0A%3C/defs%3E%0A%3Cpolygon%20fill%3D%22url%28%23l_3%29%22%20stroke%3D%22%234e4e4e%22%20points%3D%22203.36%2C-418.5%2096.98%2C-472.48%2096.98%2C-364.52%20203.36%2C-418.5%22%3E%3C/polygon%3E%0A%3Ctext%20text-anchor%3D%22middle%22%20x%3D%22132.44%22%20y%3D%22-422.3%22%20font-family%3D%22Arial%22%20font-size%3D%2214.00%22%3EM2%3C/text%3E%0A%3Ctext%20text-anchor%3D%22middle%22%20x%3D%22132.44%22%20y%3D%22-407.3%22%20font-family%3D%22Arial%22%20font-size%3D%2214.00%22%3EMixer%3C/text%3E%0A%3C/a%3E%0A%3C/g%3E%0A%3C/g%3E%0A%0A%3Cg%20id%3D%22node5%22%20class%3D%22node%22%20data-tippy-content%3D%22No%20capital%20costs%20or%20utilities%22%3E%0A%3Cg%20id%3D%22a_node5%22%3E%3Ca%20title%3D%22%20No%20capital%20costs%20or%20utilities%22%3E%0A%3Cdefs%3E%0A%3ClinearGradient%20id%3D%22l_4%22%20gradientUnits%3D%22userSpaceOnUse%22%20x1%3D%2249.06%22%20y1%3D%22-561.5%22%20x2%3D%22174.13%22%20y2%3D%22-561.5%22%3E%0A%3Cstop%20offset%3D%220%22%20style%3D%22stop-color%3Awhite%3Bstop-opacity%3A1.%3B%22%3E%3C/stop%3E%0A%3Cstop%20offset%3D%221%22%20style%3D%22stop-color%3A%23cdcdcd%3Bstop-opacity%3A1.%3B%22%3E%3C/stop%3E%0A%3C/linearGradient%3E%0A%3C/defs%3E%0A%3Cpolygon%20fill%3D%22url%28%23l_4%29%22%20stroke%3D%22%234e4e4e%22%20points%3D%2249.06%2C-561.5%20174.13%2C-507.52%20174.13%2C-615.48%2049.06%2C-561.5%22%3E%3C/polygon%3E%0A%3Ctext%20text-anchor%3D%22middle%22%20x%3D%22132.44%22%20y%3D%22-565.3%22%20font-family%3D%22Arial%22%20font-size%3D%2214.00%22%3ES2%3C/text%3E%0A%3Ctext%20text-anchor%3D%22middle%22%20x%3D%22132.44%22%20y%3D%22-550.3%22%20font-family%3D%22Arial%22%20font-size%3D%2214.00%22%3ESplitter%3C/text%3E%0A%3C/a%3E%0A%3C/g%3E%0A%3C/g%3E%0A%0A%3Cg%20id%3D%22node6%22%20class%3D%22node%22%20data-tippy-content%3D%228454776058220%22%3E%0A%3Cpolygon%20fill%3D%22%23f98f60%22%20stroke%3D%22%234e4e4e%22%20points%3D%225.5%2C-27%200%2C-21.5%205.5%2C-16%2011%2C-21.5%205.5%2C-27%22%3E%3C/polygon%3E%0A%3C/g%3E%0A%0A%3Cg%20id%3D%22node7%22%20class%3D%22node%22%20data-tippy-content%3D%228454776058196%22%3E%0A%3Cpolygon%20fill%3D%22%23f98f60%22%20stroke%3D%22%234e4e4e%22%20points%3D%22299.88%2C-21.5%20291.63%2C-28.5%20291.63%2C-14.5%20299.88%2C-21.5%22%3E%3C/polygon%3E%0A%3C/g%3E%0A%0A%3Cg%20id%3D%22node8%22%20class%3D%22node%22%20data-tippy-content%3D%228454776058772%22%3E%0A%3Cpolygon%20fill%3D%22%23f98f60%22%20stroke%3D%22%234e4e4e%22%20points%3D%225.5%2C-161%200%2C-155.5%205.5%2C-150%2011%2C-155.5%205.5%2C-161%22%3E%3C/polygon%3E%0A%3C/g%3E%0A%0A%3Cg%20id%3D%22node9%22%20class%3D%22node%22%20data-tippy-content%3D%228454775948316%22%3E%0A%3Cpolygon%20fill%3D%22%23f98f60%22%20stroke%3D%22%234e4e4e%22%20points%3D%22299.88%2C-132.5%20291.63%2C-139.5%20291.63%2C-125.5%20299.88%2C-132.5%22%3E%3C/polygon%3E%0A%3C/g%3E%0A%0A%3Cg%20id%3D%22node10%22%20class%3D%22node%22%20data-tippy-content%3D%228454776057992%22%3E%0A%3Cpolygon%20fill%3D%22%23f98f60%22%20stroke%3D%22%234e4e4e%22%20points%3D%225.5%2C-281%200%2C-275.5%205.5%2C-270%2011%2C-275.5%205.5%2C-281%22%3E%3C/polygon%3E%0A%3C/g%3E%0A%0A%3Cg%20id%3D%22node11%22%20class%3D%22node%22%20data-tippy-content%3D%228454775948304%22%3E%0A%3Cpolygon%20fill%3D%22%23f98f60%22%20stroke%3D%22%234e4e4e%22%20points%3D%22299.88%2C-303.5%20291.63%2C-310.5%20291.63%2C-296.5%20299.88%2C-303.5%22%3E%3C/polygon%3E%0A%3C/g%3E%0A%0A%3Cg%20id%3D%22node12%22%20class%3D%22node%22%20data-tippy-content%3D%228454776058628%22%3E%0A%3Cpolygon%20fill%3D%22%23f98f60%22%20stroke%3D%22%234e4e4e%22%20points%3D%225.5%2C-447%200%2C-441.5%205.5%2C-436%2011%2C-441.5%205.5%2C-447%22%3E%3C/polygon%3E%0A%3C/g%3E%0A%0A%3Cg%20id%3D%22node13%22%20class%3D%22node%22%20data-tippy-content%3D%228454776058844%22%3E%0A%3Cpolygon%20fill%3D%22%23f98f60%22%20stroke%3D%22%234e4e4e%22%20points%3D%22299.88%2C-418.5%20291.63%2C-425.5%20291.63%2C-411.5%20299.88%2C-418.5%22%3E%3C/polygon%3E%0A%3C/g%3E%0A%0A%3Cg%20id%3D%22node14%22%20class%3D%22node%22%20data-tippy-content%3D%228454776058580%22%3E%0A%3Cpolygon%20fill%3D%22%23f98f60%22%20stroke%3D%22%234e4e4e%22%20points%3D%225.5%2C-567%200%2C-561.5%205.5%2C-556%2011%2C-561.5%205.5%2C-567%22%3E%3C/polygon%3E%0A%3C/g%3E%0A%0A%3Cg%20id%3D%22node15%22%20class%3D%22node%22%20data-tippy-content%3D%228454776058808%22%3E%0A%3Cpolygon%20fill%3D%22%23f98f60%22%20stroke%3D%22%234e4e4e%22%20points%3D%22299.88%2C-589.5%20291.63%2C-596.5%20291.63%2C-582.5%20299.88%2C-589.5%22%3E%3C/polygon%3E%0A%3C/g%3E%0A%0A%3Cg%20id%3D%22node16%22%20class%3D%22node%22%20data-tippy-content%3D%228454776058244%22%3E%0A%3Cpolygon%20fill%3D%22%23f98f60%22%20stroke%3D%22%234e4e4e%22%20points%3D%225.5%2C-114%200%2C-108.5%205.5%2C-103%2011%2C-108.5%205.5%2C-114%22%3E%3C/polygon%3E%0A%3C/g%3E%0A%0A%3Cg%20id%3D%22node17%22%20class%3D%22node%22%20data-tippy-content%3D%228454776058616%22%3E%0A%3Cpolygon%20fill%3D%22%23f98f60%22%20stroke%3D%22%234e4e4e%22%20points%3D%225.5%2C-400%200%2C-394.5%205.5%2C-389%2011%2C-394.5%205.5%2C-400%22%3E%3C/polygon%3E%0A%3C/g%3E%0A%0A%3Cg%20id%3D%22node18%22%20class%3D%22node%22%20data-tippy-content%3D%228454775948292%22%3E%0A%3Cpolygon%20fill%3D%22%23f98f60%22%20stroke%3D%22%234e4e4e%22%20points%3D%22299.88%2C-247.5%20291.63%2C-254.5%20291.63%2C-240.5%20299.88%2C-247.5%22%3E%3C/polygon%3E%0A%3C/g%3E%0A%0A%3Cg%20id%3D%22node19%22%20class%3D%22node%22%20data-tippy-content%3D%228454776058424%22%3E%0A%3Cpolygon%20fill%3D%22%23f98f60%22%20stroke%3D%22%234e4e4e%22%20points%3D%22299.88%2C-533.5%20291.63%2C-540.5%20291.63%2C-526.5%20299.88%2C-533.5%22%3E%3C/polygon%3E%0A%3C/g%3E%0A%3C/g%3E%0A%3C/svg%3E%3C/body%3E%3C/html%3E\"\n",
              "            frameborder=\"0\"\n",
              "            allowfullscreen\n",
              "            allowtransparency=\"true\"\n",
              "        ></iframe>\n",
              "        "
            ]
          },
          "metadata": {}
        }
      ]
    },
    {
      "cell_type": "code",
      "source": [
        "# in pipe-notations\n",
        "\n",
        "(feed1, S2-0)-M1-S1\n",
        "(feed2, S1-0)\n",
        "\n",
        "bst.main_flowsheet.diagram()"
      ],
      "metadata": {
        "colab": {
          "base_uri": "https://localhost:8080/",
          "height": 421
        },
        "id": "UYOjzrtqSQ8D",
        "outputId": "859fabd0-a73f-4416-c11f-cf68a3a65bcc"
      },
      "execution_count": null,
      "outputs": [
        {
          "output_type": "display_data",
          "data": {
            "text/plain": [
              "<IPython.lib.display.IFrame at 0x7b087f4dfaf0>"
            ],
            "text/html": [
              "\n",
              "        <iframe\n",
              "            width=\"100%\"\n",
              "            height=\"400px\"\n",
              "            src=\"data:text/html;charset=utf-8,%3C%21DOCTYPE%20html%3E%3Chtml%3E%3Chead%3E%3Clink%20rel%3D%22stylesheet%22%20href%3D%22https%3A//unpkg.com/tippy.js%406.3.7/themes/translucent.css%22%3E%3Clink%20rel%3D%22stylesheet%22%20href%3D%22https%3A//rawcdn.githack.com/BioSTEAMDevelopmentGroup/biosteam/e065aca079c216d72b75949bbcbb74a3bbddb75d/biosteam/digraph/digraph.css%22%3E%3Cscript%20src%3D%22https%3A//unpkg.com/%40popperjs/core%402%22%3E%3C/script%3E%3Cscript%20src%3D%22https%3A//unpkg.com/tippy.js%406%22%3E%3C/script%3E%3Cscript%20src%3D%22https%3A//rawcdn.githack.com/BioSTEAMDevelopmentGroup/biosteam/e065aca079c216d72b75949bbcbb74a3bbddb75d/biosteam/digraph/digraph.js%22%3E%3C/script%3E%3C/head%3E%3Cbody%3E%3Csvg%20width%3D%22724pt%22%20height%3D%22396pt%22%20viewBox%3D%220.00%200.00%20724.18%20396.24%22%3E%0A%3Cg%20id%3D%22graph0%22%20class%3D%22graph%22%20transform%3D%22scale%281%201%29%20rotate%280%29%20translate%284%20392.24%29%22%3E%0A%3Cpolygon%20fill%3D%22%23ffffff%22%20fill-opacity%3D%220.666667%22%20stroke%3D%22transparent%22%20points%3D%22-4%2C4%20-4%2C-392.24%20720.18%2C-392.24%20720.18%2C4%20-4%2C4%22%3E%3C/polygon%3E%0A%0A%3Cg%20id%3D%22edge2%22%20class%3D%22edge%22%20data-tippy-content%3D%22%28empty%29%22%3E%0A%3Cpath%20fill%3D%22none%22%20stroke%3D%22%234e4e4e%22%20stroke-dasharray%3D%225%2C2%22%20d%3D%22M153.96%2C-21.5C193.15%2C-21.5%20281.35%2C-21.5%20355.59%2C-21.5%22%3E%3C/path%3E%0A%3Cg%20id%3D%22a_edge2-label%22%3E%3Ca%20title%3D%22%28empty%29%22%3E%0A%3Ctext%20text-anchor%3D%22middle%22%20x%3D%22252.38%22%20y%3D%22-25.3%22%20font-family%3D%22Arial%22%20font-size%3D%2214.00%22%20fill%3D%22%234e4e4e%22%3E%20out0%3C/text%3E%0A%3C/a%3E%0A%3C/g%3E%0A%3C/g%3E%0A%0A%3Cg%20id%3D%22edge9%22%20class%3D%22edge%22%20data-tippy-content%3D%22%28empty%29%22%3E%0A%3Cpath%20fill%3D%22none%22%20stroke%3D%22%234e4e4e%22%20stroke-dasharray%3D%225%2C2%22%20d%3D%22M174.21%2C-150.43C213.86%2C-167.86%20273.92%2C-194.27%20314.62%2C-212.17%22%3E%3C/path%3E%0A%3Cpolygon%20fill%3D%22%234e4e4e%22%20stroke%3D%22%234e4e4e%22%20points%3D%22313.46%2C-215.48%20324.02%2C-216.3%20316.27%2C-209.07%20313.46%2C-215.48%22%3E%3C/polygon%3E%0A%3Cg%20id%3D%22a_edge9-label%22%3E%3Ca%20title%3D%22%28empty%29%22%3E%0A%3Ctext%20text-anchor%3D%22middle%22%20x%3D%22252.38%22%20y%3D%22-201.3%22%20font-family%3D%22Arial%22%20font-size%3D%2214.00%22%20fill%3D%22%234e4e4e%22%3E%20recycle%3C/text%3E%0A%3C/a%3E%0A%3C/g%3E%0A%3C/g%3E%0A%0A%3Cg%20id%3D%22edge11%22%20class%3D%22edge%22%20data-tippy-content%3D%22%28empty%29%22%3E%0A%3Cpath%20fill%3D%22none%22%20stroke%3D%22%234e4e4e%22%20stroke-dasharray%3D%225%2C2%22%20d%3D%22M174.27%2C-125.37C189.76%2C-123%20207.58%2C-120.67%20223.88%2C-119.5%20282.29%2C-115.32%20297.02%2C-123.5%20355.59%2C-123.5%22%3E%3C/path%3E%0A%3Cg%20id%3D%22a_edge11-label%22%3E%3Ca%20title%3D%22%28empty%29%22%3E%0A%3Ctext%20text-anchor%3D%22middle%22%20x%3D%22252.38%22%20y%3D%22-123.3%22%20font-family%3D%22Arial%22%20font-size%3D%2214.00%22%20fill%3D%22%234e4e4e%22%3E%20product2%3C/text%3E%0A%3C/a%3E%0A%3C/g%3E%0A%3C/g%3E%0A%0A%3Cg%20id%3D%22edge5%22%20class%3D%22edge%22%20data-tippy-content%3D%22%28empty%29%22%3E%0A%3Cpath%20fill%3D%22none%22%20stroke%3D%22%234e4e4e%22%20stroke-dasharray%3D%225%2C2%22%20d%3D%22M430.3%2C-231.5C441.84%2C-231.5%20446.96%2C-231.5%20455.19%2C-231.5%22%3E%3C/path%3E%0A%3Cpolygon%20fill%3D%22%234e4e4e%22%20stroke%3D%22%234e4e4e%22%20points%3D%22455.3%2C-235%20465.3%2C-231.5%20455.3%2C-228%20455.3%2C-235%22%3E%3C/polygon%3E%0A%3Cg%20id%3D%22a_edge5-label%22%3E%3Ca%20title%3D%22%28empty%29%22%3E%0A%3Ctext%20text-anchor%3D%22middle%22%20x%3D%22447.8%22%20y%3D%22-235.3%22%20font-family%3D%22Arial%22%20font-size%3D%2214.00%22%20fill%3D%22%234e4e4e%22%3E%20s1%3C/text%3E%0A%3C/a%3E%0A%3C/g%3E%0A%3C/g%3E%0A%0A%3Cg%20id%3D%22edge6%22%20class%3D%22edge%22%20data-tippy-content%3D%22%28empty%29%22%3E%0A%3Cpath%20fill%3D%22none%22%20stroke%3D%22%234e4e4e%22%20stroke-dasharray%3D%225%2C2%22%20d%3D%22M590.69%2C-242.89C622.15%2C-250.64%20666.82%2C-259.5%20706.68%2C-259.5%22%3E%3C/path%3E%0A%3Cg%20id%3D%22a_edge6-label%22%3E%3Ca%20title%3D%22%28empty%29%22%3E%0A%3Ctext%20text-anchor%3D%22middle%22%20x%3D%22668.68%22%20y%3D%22-263.3%22%20font-family%3D%22Arial%22%20font-size%3D%2214.00%22%20fill%3D%22%234e4e4e%22%3E%20s2%3C/text%3E%0A%3C/a%3E%0A%3C/g%3E%0A%3C/g%3E%0A%0A%3Cg%20id%3D%22edge12%22%20class%3D%22edge%22%20data-tippy-content%3D%22%28empty%29%22%3E%0A%3Cpath%20fill%3D%22none%22%20stroke%3D%22%234e4e4e%22%20stroke-dasharray%3D%225%2C2%22%20d%3D%22M590.69%2C-220.11C622.15%2C-212.36%20666.82%2C-203.5%20706.68%2C-203.5%22%3E%3C/path%3E%0A%3Cg%20id%3D%22a_edge12-label%22%3E%3Ca%20title%3D%22%28empty%29%22%3E%0A%3Ctext%20text-anchor%3D%22middle%22%20x%3D%22668.68%22%20y%3D%22-214.3%22%20font-family%3D%22Arial%22%20font-size%3D%2214.00%22%20fill%3D%22%234e4e4e%22%3E%20product1%3C/text%3E%0A%3C/a%3E%0A%3C/g%3E%0A%3C/g%3E%0A%0A%3Cg%20id%3D%22edge8%22%20class%3D%22edge%22%20data-tippy-content%3D%22%28empty%29%22%3E%0A%3Cpath%20fill%3D%22none%22%20stroke%3D%22%234e4e4e%22%20stroke-dasharray%3D%225%2C2%22%20d%3D%22M204.44%2C-334.5C271.62%2C-334.5%20288.41%2C-334.5%20355.59%2C-334.5%22%3E%3C/path%3E%0A%3Cg%20id%3D%22a_edge8-label%22%3E%3Ca%20title%3D%22%28empty%29%22%3E%0A%3Ctext%20text-anchor%3D%22middle%22%20x%3D%22252.38%22%20y%3D%22-338.3%22%20font-family%3D%22Arial%22%20font-size%3D%2214.00%22%20fill%3D%22%234e4e4e%22%3E%20s3%3C/text%3E%0A%3C/a%3E%0A%3C/g%3E%0A%3C/g%3E%0A%0A%3Cg%20id%3D%22edge1%22%20class%3D%22edge%22%20data-tippy-content%3D%22%28empty%29%22%3E%0A%3Cpath%20fill%3D%22none%22%20stroke%3D%22%234e4e4e%22%20stroke-dasharray%3D%225%2C2%22%20d%3D%22M11%2C-21.5C45.92%2C-21.5%2086.53%2C-21.5%20110.55%2C-21.5%22%3E%3C/path%3E%0A%3Cg%20id%3D%22a_edge1-label%22%3E%3Ca%20title%3D%22%28empty%29%22%3E%0A%3Ctext%20text-anchor%3D%22middle%22%20x%3D%2230%22%20y%3D%22-25.3%22%20font-family%3D%22Arial%22%20font-size%3D%2214.00%22%20fill%3D%22%234e4e4e%22%3E%20in0%3C/text%3E%0A%3C/a%3E%0A%3C/g%3E%0A%3C/g%3E%0A%0A%3Cg%20id%3D%22edge3%22%20class%3D%22edge%22%20data-tippy-content%3D%228454776058580%3Ae-%26gt%3B8454776553479%3Aw%22%3E%0A%3Cpath%20fill%3D%22none%22%20stroke%3D%22%234e4e4e%22%20stroke-dasharray%3D%225%2C2%22%20d%3D%22M11%2C-132.5C27.89%2C-132.5%2032.11%2C-132.5%2049%2C-132.5%22%3E%3C/path%3E%0A%3C/g%3E%0A%0A%3Cg%20id%3D%22edge4%22%20class%3D%22edge%22%20data-tippy-content%3D%22%28empty%29%22%3E%0A%3Cpath%20fill%3D%22none%22%20stroke%3D%22%234e4e4e%22%20stroke-dasharray%3D%225%2C2%22%20d%3D%22M139.44%2C-235.5C204.7%2C-235.5%20280.87%2C-233.7%20324.05%2C-232.52%22%3E%3C/path%3E%0A%3Cg%20id%3D%22a_edge4-label%22%3E%3Ca%20title%3D%22%28empty%29%22%3E%0A%3Ctext%20text-anchor%3D%22middle%22%20x%3D%22252.38%22%20y%3D%22-239.3%22%20font-family%3D%22Arial%22%20font-size%3D%2214.00%22%20fill%3D%22%234e4e4e%22%3E%20feed1%3C/text%3E%0A%3C/a%3E%0A%3C/g%3E%0A%3C/g%3E%0A%0A%3Cg%20id%3D%22edge7%22%20class%3D%22edge%22%20data-tippy-content%3D%228454776058628%3Ae-%26gt%3B8454776553806%3Ac%22%3E%0A%3Cpath%20fill%3D%22none%22%20stroke%3D%22%234e4e4e%22%20stroke-dasharray%3D%225%2C2%22%20d%3D%22M11%2C-357.5C40.27%2C-357.5%2072.84%2C-350.86%2096.73%2C-344.72%22%3E%3C/path%3E%0A%3C/g%3E%0A%0A%3Cg%20id%3D%22edge10%22%20class%3D%22edge%22%20data-tippy-content%3D%228454776058616%3Ae-%26gt%3B8454776553806%3Ac%22%3E%0A%3Cpath%20fill%3D%22none%22%20stroke%3D%22%234e4e4e%22%20stroke-dasharray%3D%225%2C2%22%20d%3D%22M11%2C-310.5C40.32%2C-310.5%2072.88%2C-317.42%2096.76%2C-323.83%22%3E%3C/path%3E%0A%3C/g%3E%0A%0A%3Cg%20id%3D%22node1%22%20class%3D%22node%22%20data-tippy-content%3D%22No%20capital%20costs%20or%20utilities%22%3E%0A%3Cg%20id%3D%22a_node1%22%3E%3Ca%20title%3D%22%20No%20capital%20costs%20or%20utilities%22%3E%0A%3Cdefs%3E%0A%3ClinearGradient%20id%3D%22l_0%22%20gradientUnits%3D%22userSpaceOnUse%22%20x1%3D%22110.94%22%20y1%3D%22-21.5%22%20x2%3D%22153.94%22%20y2%3D%22-21.5%22%3E%0A%3Cstop%20offset%3D%220%22%20style%3D%22stop-color%3Awhite%3Bstop-opacity%3A1.%3B%22%3E%3C/stop%3E%0A%3Cstop%20offset%3D%221%22%20style%3D%22stop-color%3A%23cdcdcd%3Bstop-opacity%3A1.%3B%22%3E%3C/stop%3E%0A%3C/linearGradient%3E%0A%3C/defs%3E%0A%3Cpolygon%20fill%3D%22url%28%23l_0%29%22%20stroke%3D%22%234e4e4e%22%20points%3D%22153.94%2C-43%20110.94%2C-43%20110.94%2C0%20153.94%2C0%20153.94%2C-43%22%3E%3C/polygon%3E%0A%3Ctext%20text-anchor%3D%22middle%22%20x%3D%22132.44%22%20y%3D%22-25.3%22%20font-family%3D%22Arial%22%20font-size%3D%2214.00%22%3EU1%3C/text%3E%0A%3Ctext%20text-anchor%3D%22middle%22%20x%3D%22132.44%22%20y%3D%22-10.3%22%20font-family%3D%22Arial%22%20font-size%3D%2214.00%22%3EUnit%3C/text%3E%0A%3C/a%3E%0A%3C/g%3E%0A%3C/g%3E%0A%0A%3Cg%20id%3D%22node2%22%20class%3D%22node%22%20data-tippy-content%3D%22No%20capital%20costs%20or%20utilities%22%3E%0A%3Cg%20id%3D%22a_node2%22%3E%3Ca%20title%3D%22%20No%20capital%20costs%20or%20utilities%22%3E%0A%3Cdefs%3E%0A%3ClinearGradient%20id%3D%22l_1%22%20gradientUnits%3D%22userSpaceOnUse%22%20x1%3D%2249.06%22%20y1%3D%22-132.5%22%20x2%3D%22174.13%22%20y2%3D%22-132.5%22%3E%0A%3Cstop%20offset%3D%220%22%20style%3D%22stop-color%3Awhite%3Bstop-opacity%3A1.%3B%22%3E%3C/stop%3E%0A%3Cstop%20offset%3D%221%22%20style%3D%22stop-color%3A%23cdcdcd%3Bstop-opacity%3A1.%3B%22%3E%3C/stop%3E%0A%3C/linearGradient%3E%0A%3C/defs%3E%0A%3Cpolygon%20fill%3D%22url%28%23l_1%29%22%20stroke%3D%22%234e4e4e%22%20points%3D%2249.06%2C-132.5%20174.13%2C-78.52%20174.13%2C-186.48%2049.06%2C-132.5%22%3E%3C/polygon%3E%0A%3Ctext%20text-anchor%3D%22middle%22%20x%3D%22132.44%22%20y%3D%22-136.3%22%20font-family%3D%22Arial%22%20font-size%3D%2214.00%22%3ES2%3C/text%3E%0A%3Ctext%20text-anchor%3D%22middle%22%20x%3D%22132.44%22%20y%3D%22-121.3%22%20font-family%3D%22Arial%22%20font-size%3D%2214.00%22%3ESplitter%3C/text%3E%0A%3C/a%3E%0A%3C/g%3E%0A%3C/g%3E%0A%0A%3Cg%20id%3D%22node3%22%20class%3D%22node%22%20data-tippy-content%3D%22No%20capital%20costs%20or%20utilities%22%3E%0A%3Cg%20id%3D%22a_node3%22%3E%3Ca%20title%3D%22%20No%20capital%20costs%20or%20utilities%22%3E%0A%3Cdefs%3E%0A%3ClinearGradient%20id%3D%22l_2%22%20gradientUnits%3D%22userSpaceOnUse%22%20x1%3D%22324.13%22%20y1%3D%22-231.5%22%20x2%3D%22430.51%22%20y2%3D%22-231.5%22%3E%0A%3Cstop%20offset%3D%220%22%20style%3D%22stop-color%3Awhite%3Bstop-opacity%3A1.%3B%22%3E%3C/stop%3E%0A%3Cstop%20offset%3D%221%22%20style%3D%22stop-color%3A%23cdcdcd%3Bstop-opacity%3A1.%3B%22%3E%3C/stop%3E%0A%3C/linearGradient%3E%0A%3C/defs%3E%0A%3Cpolygon%20fill%3D%22url%28%23l_2%29%22%20stroke%3D%22%234e4e4e%22%20points%3D%22430.51%2C-231.5%20324.13%2C-285.48%20324.13%2C-177.52%20430.51%2C-231.5%22%3E%3C/polygon%3E%0A%3Ctext%20text-anchor%3D%22middle%22%20x%3D%22359.59%22%20y%3D%22-235.3%22%20font-family%3D%22Arial%22%20font-size%3D%2214.00%22%3EM1%3C/text%3E%0A%3Ctext%20text-anchor%3D%22middle%22%20x%3D%22359.59%22%20y%3D%22-220.3%22%20font-family%3D%22Arial%22%20font-size%3D%2214.00%22%3EMixer%3C/text%3E%0A%3C/a%3E%0A%3C/g%3E%0A%3C/g%3E%0A%0A%3Cg%20id%3D%22node4%22%20class%3D%22node%22%20data-tippy-content%3D%22No%20capital%20costs%20or%20utilities%22%3E%0A%3Cg%20id%3D%22a_node4%22%3E%3Ca%20title%3D%22%20No%20capital%20costs%20or%20utilities%22%3E%0A%3Cdefs%3E%0A%3ClinearGradient%20id%3D%22l_3%22%20gradientUnits%3D%22userSpaceOnUse%22%20x1%3D%22465.36%22%20y1%3D%22-231.5%22%20x2%3D%22590.43%22%20y2%3D%22-231.5%22%3E%0A%3Cstop%20offset%3D%220%22%20style%3D%22stop-color%3Awhite%3Bstop-opacity%3A1.%3B%22%3E%3C/stop%3E%0A%3Cstop%20offset%3D%221%22%20style%3D%22stop-color%3A%23cdcdcd%3Bstop-opacity%3A1.%3B%22%3E%3C/stop%3E%0A%3C/linearGradient%3E%0A%3C/defs%3E%0A%3Cpolygon%20fill%3D%22url%28%23l_3%29%22%20stroke%3D%22%234e4e4e%22%20points%3D%22465.36%2C-231.5%20590.43%2C-177.52%20590.43%2C-285.48%20465.36%2C-231.5%22%3E%3C/polygon%3E%0A%3Ctext%20text-anchor%3D%22middle%22%20x%3D%22548.74%22%20y%3D%22-235.3%22%20font-family%3D%22Arial%22%20font-size%3D%2214.00%22%3ES1%3C/text%3E%0A%3Ctext%20text-anchor%3D%22middle%22%20x%3D%22548.74%22%20y%3D%22-220.3%22%20font-family%3D%22Arial%22%20font-size%3D%2214.00%22%3ESplitter%3C/text%3E%0A%3C/a%3E%0A%3C/g%3E%0A%3C/g%3E%0A%0A%3Cg%20id%3D%22node5%22%20class%3D%22node%22%20data-tippy-content%3D%22No%20capital%20costs%20or%20utilities%22%3E%0A%3Cg%20id%3D%22a_node5%22%3E%3Ca%20title%3D%22%20No%20capital%20costs%20or%20utilities%22%3E%0A%3Cdefs%3E%0A%3ClinearGradient%20id%3D%22l_4%22%20gradientUnits%3D%22userSpaceOnUse%22%20x1%3D%2296.98%22%20y1%3D%22-334.5%22%20x2%3D%22203.36%22%20y2%3D%22-334.5%22%3E%0A%3Cstop%20offset%3D%220%22%20style%3D%22stop-color%3Awhite%3Bstop-opacity%3A1.%3B%22%3E%3C/stop%3E%0A%3Cstop%20offset%3D%221%22%20style%3D%22stop-color%3A%23cdcdcd%3Bstop-opacity%3A1.%3B%22%3E%3C/stop%3E%0A%3C/linearGradient%3E%0A%3C/defs%3E%0A%3Cpolygon%20fill%3D%22url%28%23l_4%29%22%20stroke%3D%22%234e4e4e%22%20points%3D%22203.36%2C-334.5%2096.98%2C-388.48%2096.98%2C-280.52%20203.36%2C-334.5%22%3E%3C/polygon%3E%0A%3Ctext%20text-anchor%3D%22middle%22%20x%3D%22132.44%22%20y%3D%22-338.3%22%20font-family%3D%22Arial%22%20font-size%3D%2214.00%22%3EM2%3C/text%3E%0A%3Ctext%20text-anchor%3D%22middle%22%20x%3D%22132.44%22%20y%3D%22-323.3%22%20font-family%3D%22Arial%22%20font-size%3D%2214.00%22%3EMixer%3C/text%3E%0A%3C/a%3E%0A%3C/g%3E%0A%3C/g%3E%0A%0A%3Cg%20id%3D%22node6%22%20class%3D%22node%22%20data-tippy-content%3D%228454776058220%22%3E%0A%3Cpolygon%20fill%3D%22%23f98f60%22%20stroke%3D%22%234e4e4e%22%20points%3D%225.5%2C-27%200%2C-21.5%205.5%2C-16%2011%2C-21.5%205.5%2C-27%22%3E%3C/polygon%3E%0A%3C/g%3E%0A%0A%3Cg%20id%3D%22node7%22%20class%3D%22node%22%20data-tippy-content%3D%228454776058196%22%3E%0A%3Cpolygon%20fill%3D%22%23f98f60%22%20stroke%3D%22%234e4e4e%22%20points%3D%22365.09%2C-21.5%20356.84%2C-28.5%20356.84%2C-14.5%20365.09%2C-21.5%22%3E%3C/polygon%3E%0A%3C/g%3E%0A%0A%3Cg%20id%3D%22node8%22%20class%3D%22node%22%20data-tippy-content%3D%228454776058580%22%3E%0A%3Cpolygon%20fill%3D%22%23f98f60%22%20stroke%3D%22%234e4e4e%22%20points%3D%225.5%2C-138%200%2C-132.5%205.5%2C-127%2011%2C-132.5%205.5%2C-138%22%3E%3C/polygon%3E%0A%3C/g%3E%0A%0A%3Cg%20id%3D%22node9%22%20class%3D%22node%22%20data-tippy-content%3D%228454775948340%22%3E%0A%3Cpolygon%20fill%3D%22%23f98f60%22%20stroke%3D%22%234e4e4e%22%20points%3D%22132.44%2C-241%20126.94%2C-235.5%20132.44%2C-230%20137.94%2C-235.5%20132.44%2C-241%22%3E%3C/polygon%3E%0A%3C/g%3E%0A%0A%3Cg%20id%3D%22node10%22%20class%3D%22node%22%20data-tippy-content%3D%228454775948304%22%3E%0A%3Cpolygon%20fill%3D%22%23f98f60%22%20stroke%3D%22%234e4e4e%22%20points%3D%22716.18%2C-259.5%20707.93%2C-266.5%20707.93%2C-252.5%20716.18%2C-259.5%22%3E%3C/polygon%3E%0A%3C/g%3E%0A%0A%3Cg%20id%3D%22node11%22%20class%3D%22node%22%20data-tippy-content%3D%228454776058628%22%3E%0A%3Cpolygon%20fill%3D%22%23f98f60%22%20stroke%3D%22%234e4e4e%22%20points%3D%225.5%2C-363%200%2C-357.5%205.5%2C-352%2011%2C-357.5%205.5%2C-363%22%3E%3C/polygon%3E%0A%3C/g%3E%0A%0A%3Cg%20id%3D%22node12%22%20class%3D%22node%22%20data-tippy-content%3D%228454776058844%22%3E%0A%3Cpolygon%20fill%3D%22%23f98f60%22%20stroke%3D%22%234e4e4e%22%20points%3D%22365.09%2C-334.5%20356.84%2C-341.5%20356.84%2C-327.5%20365.09%2C-334.5%22%3E%3C/polygon%3E%0A%3C/g%3E%0A%0A%3Cg%20id%3D%22node13%22%20class%3D%22node%22%20data-tippy-content%3D%228454776058616%22%3E%0A%3Cpolygon%20fill%3D%22%23f98f60%22%20stroke%3D%22%234e4e4e%22%20points%3D%225.5%2C-316%200%2C-310.5%205.5%2C-305%2011%2C-310.5%205.5%2C-316%22%3E%3C/polygon%3E%0A%3C/g%3E%0A%0A%3Cg%20id%3D%22node14%22%20class%3D%22node%22%20data-tippy-content%3D%228454776058424%22%3E%0A%3Cpolygon%20fill%3D%22%23f98f60%22%20stroke%3D%22%234e4e4e%22%20points%3D%22365.09%2C-123.5%20356.84%2C-130.5%20356.84%2C-116.5%20365.09%2C-123.5%22%3E%3C/polygon%3E%0A%3C/g%3E%0A%0A%3Cg%20id%3D%22node15%22%20class%3D%22node%22%20data-tippy-content%3D%228454775948292%22%3E%0A%3Cpolygon%20fill%3D%22%23f98f60%22%20stroke%3D%22%234e4e4e%22%20points%3D%22716.18%2C-203.5%20707.93%2C-210.5%20707.93%2C-196.5%20716.18%2C-203.5%22%3E%3C/polygon%3E%0A%3C/g%3E%0A%3C/g%3E%0A%3C/svg%3E%3C/body%3E%3C/html%3E\"\n",
              "            frameborder=\"0\"\n",
              "            allowfullscreen\n",
              "            allowtransparency=\"true\"\n",
              "        ></iframe>\n",
              "        "
            ]
          },
          "metadata": {}
        }
      ]
    }
  ]
}